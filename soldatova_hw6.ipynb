{
  "cells": [
    {
      "cell_type": "markdown",
      "metadata": {
        "id": "Ffq6A2-ifzAA"
      },
      "source": [
        "# Интеллектуальный анализ данных – весна 2024\n",
        "# Домашнее задание 6: классификация текстов"
      ]
    },
    {
      "cell_type": "markdown",
      "metadata": {
        "id": "EPcxtekTA1Sm"
      },
      "source": [
        "Правила:\n",
        "\n",
        "\n",
        "\n",
        "*   Домашнее задание оценивается в 10 баллов.\n",
        "*   Можно использовать без доказательства любые результаты, встречавшиеся на лекциях или семинарах по курсу, если получение этих результатов не является вопросом задания.\n",
        "*  Можно использовать любые свободные источники с *обязательным* указанием ссылки на них.\n",
        "*  Плагиат не допускается. При обнаружении случаев списывания, 0 за работу выставляется всем участникам нарушения, даже если можно установить, кто у кого списал.\n",
        "*  Старайтесь сделать код как можно более оптимальным. В частности, будет штрафоваться использование циклов в тех случаях, когда операцию можно совершить при помощи инструментов библиотек, о которых рассказывалось в курсе."
      ]
    },
    {
      "cell_type": "markdown",
      "metadata": {
        "id": "itRtFtrOf0_b"
      },
      "source": [
        "В этом домашнем задании вам предстоит построить классификатор текстов.\n",
        "\n",
        "Будем предсказывать эмоциональную окраску твиттов о коронавирусе.\n",
        "\n"
      ]
    },
    {
      "cell_type": "code",
      "execution_count": 58,
      "metadata": {
        "id": "tNGRVO7_g9mz"
      },
      "outputs": [],
      "source": [
        "import numpy as np\n",
        "import pandas as pd\n",
        "from typing import  List\n",
        "import matplotlib.pyplot as plt\n",
        "import seaborn as sns\n",
        "from string import punctuation"
      ]
    },
    {
      "cell_type": "code",
      "execution_count": 59,
      "metadata": {
        "colab": {
          "base_uri": "https://localhost:8080/",
          "height": 961
        },
        "id": "zOy8iHJQg_Ss",
        "outputId": "59eb72e3-3e3b-42b5-df24-3fe416cb1a4a"
      },
      "outputs": [
        {
          "output_type": "execute_result",
          "data": {
            "text/plain": [
              "       UserName  ScreenName                      Location     TweetAt  \\\n",
              "0          3800       48752                            UK  16-03-2020   \n",
              "1          3801       48753                     Vagabonds  16-03-2020   \n",
              "2          3802       48754                           NaN  16-03-2020   \n",
              "3          3803       48755                           NaN  16-03-2020   \n",
              "4          3804       48756   ÃÂT: 36.319708,-82.363649  16-03-2020   \n",
              "...         ...         ...                           ...         ...   \n",
              "33439     44949       89901                          OHIO  14-04-2020   \n",
              "33440     44950       89902                           NaN  14-04-2020   \n",
              "33441     44952       89904                           NaN  14-04-2020   \n",
              "33442     44953       89905                           NaN  14-04-2020   \n",
              "33443     44955       89907  i love you so much || he/him  14-04-2020   \n",
              "\n",
              "                                                                                                                                                                                                                                                                                                                            OriginalTweet  \\\n",
              "0                                                                                           advice Talk to your neighbours family to exchange phone numbers create contact list with phone numbers of neighbours schools employer chemist GP set up online shopping accounts if poss adequate supplies of regular meds but not over order   \n",
              "1                                                                                                                                                                                                     Coronavirus Australia: Woolworths to give elderly, disabled dedicated shopping hours amid COVID-19 outbreak https://t.co/bInCA9Vp8P   \n",
              "2       My food stock is not the only one which is empty...\\r\\r\\n\\r\\r\\nPLEASE, don't panic, THERE WILL BE ENOUGH FOOD FOR EVERYONE if you do not take more than you need. \\r\\r\\nStay calm, stay safe.\\r\\r\\n\\r\\r\\n#COVID19france #COVID_19 #COVID19 #coronavirus #confinement #Confinementotal #ConfinementGeneral https://t.co/zrlG0Z520j   \n",
              "3      Me, ready to go at supermarket during the #COVID19 outbreak.\\r\\r\\n\\r\\r\\nNot because I'm paranoid, but because my food stock is litteraly empty. The #coronavirus is a serious thing, but please, don't panic. It causes shortage...\\r\\r\\n\\r\\r\\n#CoronavirusFrance #restezchezvous #StayAtHome #confinement https://t.co/usmuaLq72n   \n",
              "4                                                                            As news of the regionÃÂs first confirmed COVID-19 case came out of Sullivan County last week, people flocked to area stores to purchase cleaning supplies, hand sanitizer, food, toilet paper and other goods, @Tim_Dodson reports https://t.co/cfXch7a2lU   \n",
              "...                                                                                                                                                                                                                                                                                                                                   ...   \n",
              "33439                                                                                                                           I never that weÃÂd be in a situation &amp; world that going to the supermarket , picking up a package or my mail is like playing Russian roulette with my life #coronavirus #StayHome #SocialDistancing   \n",
              "33440                                                                   @MrSilverScott you are definitely my man. I feel like this fall when we are out and about again, we need to honor our heroes from COVID-19. You know who they are ÃÂ our healthcare people , grocery store owners, and anyone else putting their life on the li   \n",
              "33441                                                                                                                                                                                          Response to complaint not provided citing COVID-19 related delays. Yet prompt in rejecting policy before consumer TAT is over. Way to go ?   \n",
              "33442                                                                                                                                                                                          You know itÃÂs getting tough when @KameronWilds  is rationing toilet paper #coronavirus #toiletpaper @kroger martinsville, help us out!!   \n",
              "33443                                                                     @TartiiCat Well new/used Rift S are going for $700.00 on Amazon rn although the normal market price is usually $400.00 . Prices are really crazy right now for vr headsets since HL Alex was announced and it's only been worse with COVID-19. Up to you whethe   \n",
              "\n",
              "                Sentiment  \n",
              "0                Positive  \n",
              "1                Positive  \n",
              "2                Positive  \n",
              "3      Extremely Negative  \n",
              "4                Positive  \n",
              "...                   ...  \n",
              "33439            Positive  \n",
              "33440  Extremely Positive  \n",
              "33441  Extremely Negative  \n",
              "33442            Positive  \n",
              "33443            Negative  \n",
              "\n",
              "[33444 rows x 6 columns]"
            ],
            "text/html": [
              "\n",
              "  <div id=\"df-4e628b56-9eef-4029-a317-dc408db82176\" class=\"colab-df-container\">\n",
              "    <div>\n",
              "<style scoped>\n",
              "    .dataframe tbody tr th:only-of-type {\n",
              "        vertical-align: middle;\n",
              "    }\n",
              "\n",
              "    .dataframe tbody tr th {\n",
              "        vertical-align: top;\n",
              "    }\n",
              "\n",
              "    .dataframe thead th {\n",
              "        text-align: right;\n",
              "    }\n",
              "</style>\n",
              "<table border=\"1\" class=\"dataframe\">\n",
              "  <thead>\n",
              "    <tr style=\"text-align: right;\">\n",
              "      <th></th>\n",
              "      <th>UserName</th>\n",
              "      <th>ScreenName</th>\n",
              "      <th>Location</th>\n",
              "      <th>TweetAt</th>\n",
              "      <th>OriginalTweet</th>\n",
              "      <th>Sentiment</th>\n",
              "    </tr>\n",
              "  </thead>\n",
              "  <tbody>\n",
              "    <tr>\n",
              "      <th>0</th>\n",
              "      <td>3800</td>\n",
              "      <td>48752</td>\n",
              "      <td>UK</td>\n",
              "      <td>16-03-2020</td>\n",
              "      <td>advice Talk to your neighbours family to exchange phone numbers create contact list with phone numbers of neighbours schools employer chemist GP set up online shopping accounts if poss adequate supplies of regular meds but not over order</td>\n",
              "      <td>Positive</td>\n",
              "    </tr>\n",
              "    <tr>\n",
              "      <th>1</th>\n",
              "      <td>3801</td>\n",
              "      <td>48753</td>\n",
              "      <td>Vagabonds</td>\n",
              "      <td>16-03-2020</td>\n",
              "      <td>Coronavirus Australia: Woolworths to give elderly, disabled dedicated shopping hours amid COVID-19 outbreak https://t.co/bInCA9Vp8P</td>\n",
              "      <td>Positive</td>\n",
              "    </tr>\n",
              "    <tr>\n",
              "      <th>2</th>\n",
              "      <td>3802</td>\n",
              "      <td>48754</td>\n",
              "      <td>NaN</td>\n",
              "      <td>16-03-2020</td>\n",
              "      <td>My food stock is not the only one which is empty...\\r\\r\\n\\r\\r\\nPLEASE, don't panic, THERE WILL BE ENOUGH FOOD FOR EVERYONE if you do not take more than you need. \\r\\r\\nStay calm, stay safe.\\r\\r\\n\\r\\r\\n#COVID19france #COVID_19 #COVID19 #coronavirus #confinement #Confinementotal #ConfinementGeneral https://t.co/zrlG0Z520j</td>\n",
              "      <td>Positive</td>\n",
              "    </tr>\n",
              "    <tr>\n",
              "      <th>3</th>\n",
              "      <td>3803</td>\n",
              "      <td>48755</td>\n",
              "      <td>NaN</td>\n",
              "      <td>16-03-2020</td>\n",
              "      <td>Me, ready to go at supermarket during the #COVID19 outbreak.\\r\\r\\n\\r\\r\\nNot because I'm paranoid, but because my food stock is litteraly empty. The #coronavirus is a serious thing, but please, don't panic. It causes shortage...\\r\\r\\n\\r\\r\\n#CoronavirusFrance #restezchezvous #StayAtHome #confinement https://t.co/usmuaLq72n</td>\n",
              "      <td>Extremely Negative</td>\n",
              "    </tr>\n",
              "    <tr>\n",
              "      <th>4</th>\n",
              "      <td>3804</td>\n",
              "      <td>48756</td>\n",
              "      <td>ÃÂT: 36.319708,-82.363649</td>\n",
              "      <td>16-03-2020</td>\n",
              "      <td>As news of the regionÃÂs first confirmed COVID-19 case came out of Sullivan County last week, people flocked to area stores to purchase cleaning supplies, hand sanitizer, food, toilet paper and other goods, @Tim_Dodson reports https://t.co/cfXch7a2lU</td>\n",
              "      <td>Positive</td>\n",
              "    </tr>\n",
              "    <tr>\n",
              "      <th>...</th>\n",
              "      <td>...</td>\n",
              "      <td>...</td>\n",
              "      <td>...</td>\n",
              "      <td>...</td>\n",
              "      <td>...</td>\n",
              "      <td>...</td>\n",
              "    </tr>\n",
              "    <tr>\n",
              "      <th>33439</th>\n",
              "      <td>44949</td>\n",
              "      <td>89901</td>\n",
              "      <td>OHIO</td>\n",
              "      <td>14-04-2020</td>\n",
              "      <td>I never that weÃÂd be in a situation &amp;amp; world that going to the supermarket , picking up a package or my mail is like playing Russian roulette with my life #coronavirus #StayHome #SocialDistancing</td>\n",
              "      <td>Positive</td>\n",
              "    </tr>\n",
              "    <tr>\n",
              "      <th>33440</th>\n",
              "      <td>44950</td>\n",
              "      <td>89902</td>\n",
              "      <td>NaN</td>\n",
              "      <td>14-04-2020</td>\n",
              "      <td>@MrSilverScott you are definitely my man. I feel like this fall when we are out and about again, we need to honor our heroes from COVID-19. You know who they are ÃÂ our healthcare people , grocery store owners, and anyone else putting their life on the li</td>\n",
              "      <td>Extremely Positive</td>\n",
              "    </tr>\n",
              "    <tr>\n",
              "      <th>33441</th>\n",
              "      <td>44952</td>\n",
              "      <td>89904</td>\n",
              "      <td>NaN</td>\n",
              "      <td>14-04-2020</td>\n",
              "      <td>Response to complaint not provided citing COVID-19 related delays. Yet prompt in rejecting policy before consumer TAT is over. Way to go ?</td>\n",
              "      <td>Extremely Negative</td>\n",
              "    </tr>\n",
              "    <tr>\n",
              "      <th>33442</th>\n",
              "      <td>44953</td>\n",
              "      <td>89905</td>\n",
              "      <td>NaN</td>\n",
              "      <td>14-04-2020</td>\n",
              "      <td>You know itÃÂs getting tough when @KameronWilds  is rationing toilet paper #coronavirus #toiletpaper @kroger martinsville, help us out!!</td>\n",
              "      <td>Positive</td>\n",
              "    </tr>\n",
              "    <tr>\n",
              "      <th>33443</th>\n",
              "      <td>44955</td>\n",
              "      <td>89907</td>\n",
              "      <td>i love you so much || he/him</td>\n",
              "      <td>14-04-2020</td>\n",
              "      <td>@TartiiCat Well new/used Rift S are going for $700.00 on Amazon rn although the normal market price is usually $400.00 . Prices are really crazy right now for vr headsets since HL Alex was announced and it's only been worse with COVID-19. Up to you whethe</td>\n",
              "      <td>Negative</td>\n",
              "    </tr>\n",
              "  </tbody>\n",
              "</table>\n",
              "<p>33444 rows × 6 columns</p>\n",
              "</div>\n",
              "    <div class=\"colab-df-buttons\">\n",
              "\n",
              "  <div class=\"colab-df-container\">\n",
              "    <button class=\"colab-df-convert\" onclick=\"convertToInteractive('df-4e628b56-9eef-4029-a317-dc408db82176')\"\n",
              "            title=\"Convert this dataframe to an interactive table.\"\n",
              "            style=\"display:none;\">\n",
              "\n",
              "  <svg xmlns=\"http://www.w3.org/2000/svg\" height=\"24px\" viewBox=\"0 -960 960 960\">\n",
              "    <path d=\"M120-120v-720h720v720H120Zm60-500h600v-160H180v160Zm220 220h160v-160H400v160Zm0 220h160v-160H400v160ZM180-400h160v-160H180v160Zm440 0h160v-160H620v160ZM180-180h160v-160H180v160Zm440 0h160v-160H620v160Z\"/>\n",
              "  </svg>\n",
              "    </button>\n",
              "\n",
              "  <style>\n",
              "    .colab-df-container {\n",
              "      display:flex;\n",
              "      gap: 12px;\n",
              "    }\n",
              "\n",
              "    .colab-df-convert {\n",
              "      background-color: #E8F0FE;\n",
              "      border: none;\n",
              "      border-radius: 50%;\n",
              "      cursor: pointer;\n",
              "      display: none;\n",
              "      fill: #1967D2;\n",
              "      height: 32px;\n",
              "      padding: 0 0 0 0;\n",
              "      width: 32px;\n",
              "    }\n",
              "\n",
              "    .colab-df-convert:hover {\n",
              "      background-color: #E2EBFA;\n",
              "      box-shadow: 0px 1px 2px rgba(60, 64, 67, 0.3), 0px 1px 3px 1px rgba(60, 64, 67, 0.15);\n",
              "      fill: #174EA6;\n",
              "    }\n",
              "\n",
              "    .colab-df-buttons div {\n",
              "      margin-bottom: 4px;\n",
              "    }\n",
              "\n",
              "    [theme=dark] .colab-df-convert {\n",
              "      background-color: #3B4455;\n",
              "      fill: #D2E3FC;\n",
              "    }\n",
              "\n",
              "    [theme=dark] .colab-df-convert:hover {\n",
              "      background-color: #434B5C;\n",
              "      box-shadow: 0px 1px 3px 1px rgba(0, 0, 0, 0.15);\n",
              "      filter: drop-shadow(0px 1px 2px rgba(0, 0, 0, 0.3));\n",
              "      fill: #FFFFFF;\n",
              "    }\n",
              "  </style>\n",
              "\n",
              "    <script>\n",
              "      const buttonEl =\n",
              "        document.querySelector('#df-4e628b56-9eef-4029-a317-dc408db82176 button.colab-df-convert');\n",
              "      buttonEl.style.display =\n",
              "        google.colab.kernel.accessAllowed ? 'block' : 'none';\n",
              "\n",
              "      async function convertToInteractive(key) {\n",
              "        const element = document.querySelector('#df-4e628b56-9eef-4029-a317-dc408db82176');\n",
              "        const dataTable =\n",
              "          await google.colab.kernel.invokeFunction('convertToInteractive',\n",
              "                                                    [key], {});\n",
              "        if (!dataTable) return;\n",
              "\n",
              "        const docLinkHtml = 'Like what you see? Visit the ' +\n",
              "          '<a target=\"_blank\" href=https://colab.research.google.com/notebooks/data_table.ipynb>data table notebook</a>'\n",
              "          + ' to learn more about interactive tables.';\n",
              "        element.innerHTML = '';\n",
              "        dataTable['output_type'] = 'display_data';\n",
              "        await google.colab.output.renderOutput(dataTable, element);\n",
              "        const docLink = document.createElement('div');\n",
              "        docLink.innerHTML = docLinkHtml;\n",
              "        element.appendChild(docLink);\n",
              "      }\n",
              "    </script>\n",
              "  </div>\n",
              "\n",
              "\n",
              "<div id=\"df-0eeb3626-4b52-4c7c-a2fc-0142771b680b\">\n",
              "  <button class=\"colab-df-quickchart\" onclick=\"quickchart('df-0eeb3626-4b52-4c7c-a2fc-0142771b680b')\"\n",
              "            title=\"Suggest charts\"\n",
              "            style=\"display:none;\">\n",
              "\n",
              "<svg xmlns=\"http://www.w3.org/2000/svg\" height=\"24px\"viewBox=\"0 0 24 24\"\n",
              "     width=\"24px\">\n",
              "    <g>\n",
              "        <path d=\"M19 3H5c-1.1 0-2 .9-2 2v14c0 1.1.9 2 2 2h14c1.1 0 2-.9 2-2V5c0-1.1-.9-2-2-2zM9 17H7v-7h2v7zm4 0h-2V7h2v10zm4 0h-2v-4h2v4z\"/>\n",
              "    </g>\n",
              "</svg>\n",
              "  </button>\n",
              "\n",
              "<style>\n",
              "  .colab-df-quickchart {\n",
              "      --bg-color: #E8F0FE;\n",
              "      --fill-color: #1967D2;\n",
              "      --hover-bg-color: #E2EBFA;\n",
              "      --hover-fill-color: #174EA6;\n",
              "      --disabled-fill-color: #AAA;\n",
              "      --disabled-bg-color: #DDD;\n",
              "  }\n",
              "\n",
              "  [theme=dark] .colab-df-quickchart {\n",
              "      --bg-color: #3B4455;\n",
              "      --fill-color: #D2E3FC;\n",
              "      --hover-bg-color: #434B5C;\n",
              "      --hover-fill-color: #FFFFFF;\n",
              "      --disabled-bg-color: #3B4455;\n",
              "      --disabled-fill-color: #666;\n",
              "  }\n",
              "\n",
              "  .colab-df-quickchart {\n",
              "    background-color: var(--bg-color);\n",
              "    border: none;\n",
              "    border-radius: 50%;\n",
              "    cursor: pointer;\n",
              "    display: none;\n",
              "    fill: var(--fill-color);\n",
              "    height: 32px;\n",
              "    padding: 0;\n",
              "    width: 32px;\n",
              "  }\n",
              "\n",
              "  .colab-df-quickchart:hover {\n",
              "    background-color: var(--hover-bg-color);\n",
              "    box-shadow: 0 1px 2px rgba(60, 64, 67, 0.3), 0 1px 3px 1px rgba(60, 64, 67, 0.15);\n",
              "    fill: var(--button-hover-fill-color);\n",
              "  }\n",
              "\n",
              "  .colab-df-quickchart-complete:disabled,\n",
              "  .colab-df-quickchart-complete:disabled:hover {\n",
              "    background-color: var(--disabled-bg-color);\n",
              "    fill: var(--disabled-fill-color);\n",
              "    box-shadow: none;\n",
              "  }\n",
              "\n",
              "  .colab-df-spinner {\n",
              "    border: 2px solid var(--fill-color);\n",
              "    border-color: transparent;\n",
              "    border-bottom-color: var(--fill-color);\n",
              "    animation:\n",
              "      spin 1s steps(1) infinite;\n",
              "  }\n",
              "\n",
              "  @keyframes spin {\n",
              "    0% {\n",
              "      border-color: transparent;\n",
              "      border-bottom-color: var(--fill-color);\n",
              "      border-left-color: var(--fill-color);\n",
              "    }\n",
              "    20% {\n",
              "      border-color: transparent;\n",
              "      border-left-color: var(--fill-color);\n",
              "      border-top-color: var(--fill-color);\n",
              "    }\n",
              "    30% {\n",
              "      border-color: transparent;\n",
              "      border-left-color: var(--fill-color);\n",
              "      border-top-color: var(--fill-color);\n",
              "      border-right-color: var(--fill-color);\n",
              "    }\n",
              "    40% {\n",
              "      border-color: transparent;\n",
              "      border-right-color: var(--fill-color);\n",
              "      border-top-color: var(--fill-color);\n",
              "    }\n",
              "    60% {\n",
              "      border-color: transparent;\n",
              "      border-right-color: var(--fill-color);\n",
              "    }\n",
              "    80% {\n",
              "      border-color: transparent;\n",
              "      border-right-color: var(--fill-color);\n",
              "      border-bottom-color: var(--fill-color);\n",
              "    }\n",
              "    90% {\n",
              "      border-color: transparent;\n",
              "      border-bottom-color: var(--fill-color);\n",
              "    }\n",
              "  }\n",
              "</style>\n",
              "\n",
              "  <script>\n",
              "    async function quickchart(key) {\n",
              "      const quickchartButtonEl =\n",
              "        document.querySelector('#' + key + ' button');\n",
              "      quickchartButtonEl.disabled = true;  // To prevent multiple clicks.\n",
              "      quickchartButtonEl.classList.add('colab-df-spinner');\n",
              "      try {\n",
              "        const charts = await google.colab.kernel.invokeFunction(\n",
              "            'suggestCharts', [key], {});\n",
              "      } catch (error) {\n",
              "        console.error('Error during call to suggestCharts:', error);\n",
              "      }\n",
              "      quickchartButtonEl.classList.remove('colab-df-spinner');\n",
              "      quickchartButtonEl.classList.add('colab-df-quickchart-complete');\n",
              "    }\n",
              "    (() => {\n",
              "      let quickchartButtonEl =\n",
              "        document.querySelector('#df-0eeb3626-4b52-4c7c-a2fc-0142771b680b button');\n",
              "      quickchartButtonEl.style.display =\n",
              "        google.colab.kernel.accessAllowed ? 'block' : 'none';\n",
              "    })();\n",
              "  </script>\n",
              "</div>\n",
              "    </div>\n",
              "  </div>\n"
            ],
            "application/vnd.google.colaboratory.intrinsic+json": {
              "type": "dataframe",
              "variable_name": "df",
              "summary": "{\n  \"name\": \"df\",\n  \"rows\": 33444,\n  \"fields\": [\n    {\n      \"column\": \"UserName\",\n      \"properties\": {\n        \"dtype\": \"number\",\n        \"std\": 11875,\n        \"min\": 3800,\n        \"max\": 44955,\n        \"num_unique_values\": 33444,\n        \"samples\": [\n          33995,\n          17124,\n          18421\n        ],\n        \"semantic_type\": \"\",\n        \"description\": \"\"\n      }\n    },\n    {\n      \"column\": \"ScreenName\",\n      \"properties\": {\n        \"dtype\": \"number\",\n        \"std\": 11875,\n        \"min\": 48752,\n        \"max\": 89907,\n        \"num_unique_values\": 33444,\n        \"samples\": [\n          78947,\n          62076,\n          63373\n        ],\n        \"semantic_type\": \"\",\n        \"description\": \"\"\n      }\n    },\n    {\n      \"column\": \"Location\",\n      \"properties\": {\n        \"dtype\": \"category\",\n        \"num_unique_values\": 10465,\n        \"samples\": [\n          \"Kitchener | Ontario | Canada\",\n          \"Montr\\u00c3\\u0083\\u00c2\\u00a9al\",\n          \"England. Germany.\"\n        ],\n        \"semantic_type\": \"\",\n        \"description\": \"\"\n      }\n    },\n    {\n      \"column\": \"TweetAt\",\n      \"properties\": {\n        \"dtype\": \"object\",\n        \"num_unique_values\": 30,\n        \"samples\": [\n          \"12-04-2020\",\n          \"31-03-2020\",\n          \"08-04-2020\"\n        ],\n        \"semantic_type\": \"\",\n        \"description\": \"\"\n      }\n    },\n    {\n      \"column\": \"OriginalTweet\",\n      \"properties\": {\n        \"dtype\": \"string\",\n        \"num_unique_values\": 33444,\n        \"samples\": [\n          \"US death toll is way less than estimated. This I hope will bring back consumer confidence #coronavirus #Covid_19 #CoronavirusUSA\",\n          \"We will get through this by people helping people and not stock piling food and toiletries, selfish pricks #Covid_19\",\n          \"#rice prices soar to two-year high, traders blame it on #coronavirus panic buying, writes #YasirWardad https://t.co/hIXzS1DKdo #FE via @febdonline\"\n        ],\n        \"semantic_type\": \"\",\n        \"description\": \"\"\n      }\n    },\n    {\n      \"column\": \"Sentiment\",\n      \"properties\": {\n        \"dtype\": \"category\",\n        \"num_unique_values\": 4,\n        \"samples\": [\n          \"Extremely Negative\",\n          \"Extremely Positive\",\n          \"Positive\"\n        ],\n        \"semantic_type\": \"\",\n        \"description\": \"\"\n      }\n    }\n  ]\n}"
            }
          },
          "metadata": {},
          "execution_count": 59
        }
      ],
      "source": [
        "url = 'https://raw.githubusercontent.com/hse-ds/iad-intro-ds/master/2024/homeworks/hw06_texts/tweets_coronavirus.csv'\n",
        "df = pd.read_csv(url, encoding='latin-1')\n",
        "df"
      ]
    },
    {
      "cell_type": "markdown",
      "metadata": {
        "id": "m2OiDog9ZBlS"
      },
      "source": [
        "Для каждого твитта указано:\n",
        "\n",
        "\n",
        "*   UserName - имя пользователя, заменено на целое число для анонимности\n",
        "*   ScreenName - отображающееся имя пользователя, заменено на целое число для анонимности\n",
        "*   Location - местоположение\n",
        "*   TweetAt - дата создания твитта\n",
        "*   OriginalTweet - текст твитта\n",
        "*   Sentiment - эмоциональная окраска твитта (целевая переменная)\n",
        "\n"
      ]
    },
    {
      "cell_type": "markdown",
      "metadata": {
        "id": "pZTMseDkhTC7"
      },
      "source": [
        "## Задание 1 Подготовка (0.5 балла)"
      ]
    },
    {
      "cell_type": "markdown",
      "metadata": {
        "id": "Xx2-odn9hdAW"
      },
      "source": [
        "Целевая переменная находится в колонке `Sentiment`.  Преобразуйте ее таким образом, чтобы она стала бинарной: 1 - если у твитта положительная эмоциональная окраска и 0 - если отрицательная."
      ]
    },
    {
      "cell_type": "code",
      "execution_count": 60,
      "metadata": {
        "colab": {
          "base_uri": "https://localhost:8080/",
          "height": 961
        },
        "id": "ZaQKQ1zEjP15",
        "outputId": "dd8293f0-76a4-477c-9cf1-c3f3fe45af29"
      },
      "outputs": [
        {
          "output_type": "execute_result",
          "data": {
            "text/plain": [
              "       UserName  ScreenName                      Location     TweetAt  \\\n",
              "0          3800       48752                            UK  16-03-2020   \n",
              "1          3801       48753                     Vagabonds  16-03-2020   \n",
              "2          3802       48754                           NaN  16-03-2020   \n",
              "3          3803       48755                           NaN  16-03-2020   \n",
              "4          3804       48756   ÃÂT: 36.319708,-82.363649  16-03-2020   \n",
              "...         ...         ...                           ...         ...   \n",
              "33439     44949       89901                          OHIO  14-04-2020   \n",
              "33440     44950       89902                           NaN  14-04-2020   \n",
              "33441     44952       89904                           NaN  14-04-2020   \n",
              "33442     44953       89905                           NaN  14-04-2020   \n",
              "33443     44955       89907  i love you so much || he/him  14-04-2020   \n",
              "\n",
              "                                                                                                                                                                                                                                                                                                                            OriginalTweet  \\\n",
              "0                                                                                           advice Talk to your neighbours family to exchange phone numbers create contact list with phone numbers of neighbours schools employer chemist GP set up online shopping accounts if poss adequate supplies of regular meds but not over order   \n",
              "1                                                                                                                                                                                                     Coronavirus Australia: Woolworths to give elderly, disabled dedicated shopping hours amid COVID-19 outbreak https://t.co/bInCA9Vp8P   \n",
              "2       My food stock is not the only one which is empty...\\r\\r\\n\\r\\r\\nPLEASE, don't panic, THERE WILL BE ENOUGH FOOD FOR EVERYONE if you do not take more than you need. \\r\\r\\nStay calm, stay safe.\\r\\r\\n\\r\\r\\n#COVID19france #COVID_19 #COVID19 #coronavirus #confinement #Confinementotal #ConfinementGeneral https://t.co/zrlG0Z520j   \n",
              "3      Me, ready to go at supermarket during the #COVID19 outbreak.\\r\\r\\n\\r\\r\\nNot because I'm paranoid, but because my food stock is litteraly empty. The #coronavirus is a serious thing, but please, don't panic. It causes shortage...\\r\\r\\n\\r\\r\\n#CoronavirusFrance #restezchezvous #StayAtHome #confinement https://t.co/usmuaLq72n   \n",
              "4                                                                            As news of the regionÃÂs first confirmed COVID-19 case came out of Sullivan County last week, people flocked to area stores to purchase cleaning supplies, hand sanitizer, food, toilet paper and other goods, @Tim_Dodson reports https://t.co/cfXch7a2lU   \n",
              "...                                                                                                                                                                                                                                                                                                                                   ...   \n",
              "33439                                                                                                                           I never that weÃÂd be in a situation &amp; world that going to the supermarket , picking up a package or my mail is like playing Russian roulette with my life #coronavirus #StayHome #SocialDistancing   \n",
              "33440                                                                   @MrSilverScott you are definitely my man. I feel like this fall when we are out and about again, we need to honor our heroes from COVID-19. You know who they are ÃÂ our healthcare people , grocery store owners, and anyone else putting their life on the li   \n",
              "33441                                                                                                                                                                                          Response to complaint not provided citing COVID-19 related delays. Yet prompt in rejecting policy before consumer TAT is over. Way to go ?   \n",
              "33442                                                                                                                                                                                          You know itÃÂs getting tough when @KameronWilds  is rationing toilet paper #coronavirus #toiletpaper @kroger martinsville, help us out!!   \n",
              "33443                                                                     @TartiiCat Well new/used Rift S are going for $700.00 on Amazon rn although the normal market price is usually $400.00 . Prices are really crazy right now for vr headsets since HL Alex was announced and it's only been worse with COVID-19. Up to you whethe   \n",
              "\n",
              "       Sentiment  \n",
              "0              1  \n",
              "1              1  \n",
              "2              1  \n",
              "3              0  \n",
              "4              1  \n",
              "...          ...  \n",
              "33439          1  \n",
              "33440          1  \n",
              "33441          0  \n",
              "33442          1  \n",
              "33443          0  \n",
              "\n",
              "[33444 rows x 6 columns]"
            ],
            "text/html": [
              "\n",
              "  <div id=\"df-ecc0d2ed-2258-4337-8c6c-526001a0c2c2\" class=\"colab-df-container\">\n",
              "    <div>\n",
              "<style scoped>\n",
              "    .dataframe tbody tr th:only-of-type {\n",
              "        vertical-align: middle;\n",
              "    }\n",
              "\n",
              "    .dataframe tbody tr th {\n",
              "        vertical-align: top;\n",
              "    }\n",
              "\n",
              "    .dataframe thead th {\n",
              "        text-align: right;\n",
              "    }\n",
              "</style>\n",
              "<table border=\"1\" class=\"dataframe\">\n",
              "  <thead>\n",
              "    <tr style=\"text-align: right;\">\n",
              "      <th></th>\n",
              "      <th>UserName</th>\n",
              "      <th>ScreenName</th>\n",
              "      <th>Location</th>\n",
              "      <th>TweetAt</th>\n",
              "      <th>OriginalTweet</th>\n",
              "      <th>Sentiment</th>\n",
              "    </tr>\n",
              "  </thead>\n",
              "  <tbody>\n",
              "    <tr>\n",
              "      <th>0</th>\n",
              "      <td>3800</td>\n",
              "      <td>48752</td>\n",
              "      <td>UK</td>\n",
              "      <td>16-03-2020</td>\n",
              "      <td>advice Talk to your neighbours family to exchange phone numbers create contact list with phone numbers of neighbours schools employer chemist GP set up online shopping accounts if poss adequate supplies of regular meds but not over order</td>\n",
              "      <td>1</td>\n",
              "    </tr>\n",
              "    <tr>\n",
              "      <th>1</th>\n",
              "      <td>3801</td>\n",
              "      <td>48753</td>\n",
              "      <td>Vagabonds</td>\n",
              "      <td>16-03-2020</td>\n",
              "      <td>Coronavirus Australia: Woolworths to give elderly, disabled dedicated shopping hours amid COVID-19 outbreak https://t.co/bInCA9Vp8P</td>\n",
              "      <td>1</td>\n",
              "    </tr>\n",
              "    <tr>\n",
              "      <th>2</th>\n",
              "      <td>3802</td>\n",
              "      <td>48754</td>\n",
              "      <td>NaN</td>\n",
              "      <td>16-03-2020</td>\n",
              "      <td>My food stock is not the only one which is empty...\\r\\r\\n\\r\\r\\nPLEASE, don't panic, THERE WILL BE ENOUGH FOOD FOR EVERYONE if you do not take more than you need. \\r\\r\\nStay calm, stay safe.\\r\\r\\n\\r\\r\\n#COVID19france #COVID_19 #COVID19 #coronavirus #confinement #Confinementotal #ConfinementGeneral https://t.co/zrlG0Z520j</td>\n",
              "      <td>1</td>\n",
              "    </tr>\n",
              "    <tr>\n",
              "      <th>3</th>\n",
              "      <td>3803</td>\n",
              "      <td>48755</td>\n",
              "      <td>NaN</td>\n",
              "      <td>16-03-2020</td>\n",
              "      <td>Me, ready to go at supermarket during the #COVID19 outbreak.\\r\\r\\n\\r\\r\\nNot because I'm paranoid, but because my food stock is litteraly empty. The #coronavirus is a serious thing, but please, don't panic. It causes shortage...\\r\\r\\n\\r\\r\\n#CoronavirusFrance #restezchezvous #StayAtHome #confinement https://t.co/usmuaLq72n</td>\n",
              "      <td>0</td>\n",
              "    </tr>\n",
              "    <tr>\n",
              "      <th>4</th>\n",
              "      <td>3804</td>\n",
              "      <td>48756</td>\n",
              "      <td>ÃÂT: 36.319708,-82.363649</td>\n",
              "      <td>16-03-2020</td>\n",
              "      <td>As news of the regionÃÂs first confirmed COVID-19 case came out of Sullivan County last week, people flocked to area stores to purchase cleaning supplies, hand sanitizer, food, toilet paper and other goods, @Tim_Dodson reports https://t.co/cfXch7a2lU</td>\n",
              "      <td>1</td>\n",
              "    </tr>\n",
              "    <tr>\n",
              "      <th>...</th>\n",
              "      <td>...</td>\n",
              "      <td>...</td>\n",
              "      <td>...</td>\n",
              "      <td>...</td>\n",
              "      <td>...</td>\n",
              "      <td>...</td>\n",
              "    </tr>\n",
              "    <tr>\n",
              "      <th>33439</th>\n",
              "      <td>44949</td>\n",
              "      <td>89901</td>\n",
              "      <td>OHIO</td>\n",
              "      <td>14-04-2020</td>\n",
              "      <td>I never that weÃÂd be in a situation &amp;amp; world that going to the supermarket , picking up a package or my mail is like playing Russian roulette with my life #coronavirus #StayHome #SocialDistancing</td>\n",
              "      <td>1</td>\n",
              "    </tr>\n",
              "    <tr>\n",
              "      <th>33440</th>\n",
              "      <td>44950</td>\n",
              "      <td>89902</td>\n",
              "      <td>NaN</td>\n",
              "      <td>14-04-2020</td>\n",
              "      <td>@MrSilverScott you are definitely my man. I feel like this fall when we are out and about again, we need to honor our heroes from COVID-19. You know who they are ÃÂ our healthcare people , grocery store owners, and anyone else putting their life on the li</td>\n",
              "      <td>1</td>\n",
              "    </tr>\n",
              "    <tr>\n",
              "      <th>33441</th>\n",
              "      <td>44952</td>\n",
              "      <td>89904</td>\n",
              "      <td>NaN</td>\n",
              "      <td>14-04-2020</td>\n",
              "      <td>Response to complaint not provided citing COVID-19 related delays. Yet prompt in rejecting policy before consumer TAT is over. Way to go ?</td>\n",
              "      <td>0</td>\n",
              "    </tr>\n",
              "    <tr>\n",
              "      <th>33442</th>\n",
              "      <td>44953</td>\n",
              "      <td>89905</td>\n",
              "      <td>NaN</td>\n",
              "      <td>14-04-2020</td>\n",
              "      <td>You know itÃÂs getting tough when @KameronWilds  is rationing toilet paper #coronavirus #toiletpaper @kroger martinsville, help us out!!</td>\n",
              "      <td>1</td>\n",
              "    </tr>\n",
              "    <tr>\n",
              "      <th>33443</th>\n",
              "      <td>44955</td>\n",
              "      <td>89907</td>\n",
              "      <td>i love you so much || he/him</td>\n",
              "      <td>14-04-2020</td>\n",
              "      <td>@TartiiCat Well new/used Rift S are going for $700.00 on Amazon rn although the normal market price is usually $400.00 . Prices are really crazy right now for vr headsets since HL Alex was announced and it's only been worse with COVID-19. Up to you whethe</td>\n",
              "      <td>0</td>\n",
              "    </tr>\n",
              "  </tbody>\n",
              "</table>\n",
              "<p>33444 rows × 6 columns</p>\n",
              "</div>\n",
              "    <div class=\"colab-df-buttons\">\n",
              "\n",
              "  <div class=\"colab-df-container\">\n",
              "    <button class=\"colab-df-convert\" onclick=\"convertToInteractive('df-ecc0d2ed-2258-4337-8c6c-526001a0c2c2')\"\n",
              "            title=\"Convert this dataframe to an interactive table.\"\n",
              "            style=\"display:none;\">\n",
              "\n",
              "  <svg xmlns=\"http://www.w3.org/2000/svg\" height=\"24px\" viewBox=\"0 -960 960 960\">\n",
              "    <path d=\"M120-120v-720h720v720H120Zm60-500h600v-160H180v160Zm220 220h160v-160H400v160Zm0 220h160v-160H400v160ZM180-400h160v-160H180v160Zm440 0h160v-160H620v160ZM180-180h160v-160H180v160Zm440 0h160v-160H620v160Z\"/>\n",
              "  </svg>\n",
              "    </button>\n",
              "\n",
              "  <style>\n",
              "    .colab-df-container {\n",
              "      display:flex;\n",
              "      gap: 12px;\n",
              "    }\n",
              "\n",
              "    .colab-df-convert {\n",
              "      background-color: #E8F0FE;\n",
              "      border: none;\n",
              "      border-radius: 50%;\n",
              "      cursor: pointer;\n",
              "      display: none;\n",
              "      fill: #1967D2;\n",
              "      height: 32px;\n",
              "      padding: 0 0 0 0;\n",
              "      width: 32px;\n",
              "    }\n",
              "\n",
              "    .colab-df-convert:hover {\n",
              "      background-color: #E2EBFA;\n",
              "      box-shadow: 0px 1px 2px rgba(60, 64, 67, 0.3), 0px 1px 3px 1px rgba(60, 64, 67, 0.15);\n",
              "      fill: #174EA6;\n",
              "    }\n",
              "\n",
              "    .colab-df-buttons div {\n",
              "      margin-bottom: 4px;\n",
              "    }\n",
              "\n",
              "    [theme=dark] .colab-df-convert {\n",
              "      background-color: #3B4455;\n",
              "      fill: #D2E3FC;\n",
              "    }\n",
              "\n",
              "    [theme=dark] .colab-df-convert:hover {\n",
              "      background-color: #434B5C;\n",
              "      box-shadow: 0px 1px 3px 1px rgba(0, 0, 0, 0.15);\n",
              "      filter: drop-shadow(0px 1px 2px rgba(0, 0, 0, 0.3));\n",
              "      fill: #FFFFFF;\n",
              "    }\n",
              "  </style>\n",
              "\n",
              "    <script>\n",
              "      const buttonEl =\n",
              "        document.querySelector('#df-ecc0d2ed-2258-4337-8c6c-526001a0c2c2 button.colab-df-convert');\n",
              "      buttonEl.style.display =\n",
              "        google.colab.kernel.accessAllowed ? 'block' : 'none';\n",
              "\n",
              "      async function convertToInteractive(key) {\n",
              "        const element = document.querySelector('#df-ecc0d2ed-2258-4337-8c6c-526001a0c2c2');\n",
              "        const dataTable =\n",
              "          await google.colab.kernel.invokeFunction('convertToInteractive',\n",
              "                                                    [key], {});\n",
              "        if (!dataTable) return;\n",
              "\n",
              "        const docLinkHtml = 'Like what you see? Visit the ' +\n",
              "          '<a target=\"_blank\" href=https://colab.research.google.com/notebooks/data_table.ipynb>data table notebook</a>'\n",
              "          + ' to learn more about interactive tables.';\n",
              "        element.innerHTML = '';\n",
              "        dataTable['output_type'] = 'display_data';\n",
              "        await google.colab.output.renderOutput(dataTable, element);\n",
              "        const docLink = document.createElement('div');\n",
              "        docLink.innerHTML = docLinkHtml;\n",
              "        element.appendChild(docLink);\n",
              "      }\n",
              "    </script>\n",
              "  </div>\n",
              "\n",
              "\n",
              "<div id=\"df-763d08b9-4ad9-4db4-b78f-29604b1c0c3a\">\n",
              "  <button class=\"colab-df-quickchart\" onclick=\"quickchart('df-763d08b9-4ad9-4db4-b78f-29604b1c0c3a')\"\n",
              "            title=\"Suggest charts\"\n",
              "            style=\"display:none;\">\n",
              "\n",
              "<svg xmlns=\"http://www.w3.org/2000/svg\" height=\"24px\"viewBox=\"0 0 24 24\"\n",
              "     width=\"24px\">\n",
              "    <g>\n",
              "        <path d=\"M19 3H5c-1.1 0-2 .9-2 2v14c0 1.1.9 2 2 2h14c1.1 0 2-.9 2-2V5c0-1.1-.9-2-2-2zM9 17H7v-7h2v7zm4 0h-2V7h2v10zm4 0h-2v-4h2v4z\"/>\n",
              "    </g>\n",
              "</svg>\n",
              "  </button>\n",
              "\n",
              "<style>\n",
              "  .colab-df-quickchart {\n",
              "      --bg-color: #E8F0FE;\n",
              "      --fill-color: #1967D2;\n",
              "      --hover-bg-color: #E2EBFA;\n",
              "      --hover-fill-color: #174EA6;\n",
              "      --disabled-fill-color: #AAA;\n",
              "      --disabled-bg-color: #DDD;\n",
              "  }\n",
              "\n",
              "  [theme=dark] .colab-df-quickchart {\n",
              "      --bg-color: #3B4455;\n",
              "      --fill-color: #D2E3FC;\n",
              "      --hover-bg-color: #434B5C;\n",
              "      --hover-fill-color: #FFFFFF;\n",
              "      --disabled-bg-color: #3B4455;\n",
              "      --disabled-fill-color: #666;\n",
              "  }\n",
              "\n",
              "  .colab-df-quickchart {\n",
              "    background-color: var(--bg-color);\n",
              "    border: none;\n",
              "    border-radius: 50%;\n",
              "    cursor: pointer;\n",
              "    display: none;\n",
              "    fill: var(--fill-color);\n",
              "    height: 32px;\n",
              "    padding: 0;\n",
              "    width: 32px;\n",
              "  }\n",
              "\n",
              "  .colab-df-quickchart:hover {\n",
              "    background-color: var(--hover-bg-color);\n",
              "    box-shadow: 0 1px 2px rgba(60, 64, 67, 0.3), 0 1px 3px 1px rgba(60, 64, 67, 0.15);\n",
              "    fill: var(--button-hover-fill-color);\n",
              "  }\n",
              "\n",
              "  .colab-df-quickchart-complete:disabled,\n",
              "  .colab-df-quickchart-complete:disabled:hover {\n",
              "    background-color: var(--disabled-bg-color);\n",
              "    fill: var(--disabled-fill-color);\n",
              "    box-shadow: none;\n",
              "  }\n",
              "\n",
              "  .colab-df-spinner {\n",
              "    border: 2px solid var(--fill-color);\n",
              "    border-color: transparent;\n",
              "    border-bottom-color: var(--fill-color);\n",
              "    animation:\n",
              "      spin 1s steps(1) infinite;\n",
              "  }\n",
              "\n",
              "  @keyframes spin {\n",
              "    0% {\n",
              "      border-color: transparent;\n",
              "      border-bottom-color: var(--fill-color);\n",
              "      border-left-color: var(--fill-color);\n",
              "    }\n",
              "    20% {\n",
              "      border-color: transparent;\n",
              "      border-left-color: var(--fill-color);\n",
              "      border-top-color: var(--fill-color);\n",
              "    }\n",
              "    30% {\n",
              "      border-color: transparent;\n",
              "      border-left-color: var(--fill-color);\n",
              "      border-top-color: var(--fill-color);\n",
              "      border-right-color: var(--fill-color);\n",
              "    }\n",
              "    40% {\n",
              "      border-color: transparent;\n",
              "      border-right-color: var(--fill-color);\n",
              "      border-top-color: var(--fill-color);\n",
              "    }\n",
              "    60% {\n",
              "      border-color: transparent;\n",
              "      border-right-color: var(--fill-color);\n",
              "    }\n",
              "    80% {\n",
              "      border-color: transparent;\n",
              "      border-right-color: var(--fill-color);\n",
              "      border-bottom-color: var(--fill-color);\n",
              "    }\n",
              "    90% {\n",
              "      border-color: transparent;\n",
              "      border-bottom-color: var(--fill-color);\n",
              "    }\n",
              "  }\n",
              "</style>\n",
              "\n",
              "  <script>\n",
              "    async function quickchart(key) {\n",
              "      const quickchartButtonEl =\n",
              "        document.querySelector('#' + key + ' button');\n",
              "      quickchartButtonEl.disabled = true;  // To prevent multiple clicks.\n",
              "      quickchartButtonEl.classList.add('colab-df-spinner');\n",
              "      try {\n",
              "        const charts = await google.colab.kernel.invokeFunction(\n",
              "            'suggestCharts', [key], {});\n",
              "      } catch (error) {\n",
              "        console.error('Error during call to suggestCharts:', error);\n",
              "      }\n",
              "      quickchartButtonEl.classList.remove('colab-df-spinner');\n",
              "      quickchartButtonEl.classList.add('colab-df-quickchart-complete');\n",
              "    }\n",
              "    (() => {\n",
              "      let quickchartButtonEl =\n",
              "        document.querySelector('#df-763d08b9-4ad9-4db4-b78f-29604b1c0c3a button');\n",
              "      quickchartButtonEl.style.display =\n",
              "        google.colab.kernel.accessAllowed ? 'block' : 'none';\n",
              "    })();\n",
              "  </script>\n",
              "</div>\n",
              "    </div>\n",
              "  </div>\n"
            ],
            "application/vnd.google.colaboratory.intrinsic+json": {
              "type": "dataframe",
              "variable_name": "df",
              "summary": "{\n  \"name\": \"df\",\n  \"rows\": 33444,\n  \"fields\": [\n    {\n      \"column\": \"UserName\",\n      \"properties\": {\n        \"dtype\": \"number\",\n        \"std\": 11875,\n        \"min\": 3800,\n        \"max\": 44955,\n        \"num_unique_values\": 33444,\n        \"samples\": [\n          33995,\n          17124,\n          18421\n        ],\n        \"semantic_type\": \"\",\n        \"description\": \"\"\n      }\n    },\n    {\n      \"column\": \"ScreenName\",\n      \"properties\": {\n        \"dtype\": \"number\",\n        \"std\": 11875,\n        \"min\": 48752,\n        \"max\": 89907,\n        \"num_unique_values\": 33444,\n        \"samples\": [\n          78947,\n          62076,\n          63373\n        ],\n        \"semantic_type\": \"\",\n        \"description\": \"\"\n      }\n    },\n    {\n      \"column\": \"Location\",\n      \"properties\": {\n        \"dtype\": \"category\",\n        \"num_unique_values\": 10465,\n        \"samples\": [\n          \"Kitchener | Ontario | Canada\",\n          \"Montr\\u00c3\\u0083\\u00c2\\u00a9al\",\n          \"England. Germany.\"\n        ],\n        \"semantic_type\": \"\",\n        \"description\": \"\"\n      }\n    },\n    {\n      \"column\": \"TweetAt\",\n      \"properties\": {\n        \"dtype\": \"object\",\n        \"num_unique_values\": 30,\n        \"samples\": [\n          \"12-04-2020\",\n          \"31-03-2020\",\n          \"08-04-2020\"\n        ],\n        \"semantic_type\": \"\",\n        \"description\": \"\"\n      }\n    },\n    {\n      \"column\": \"OriginalTweet\",\n      \"properties\": {\n        \"dtype\": \"string\",\n        \"num_unique_values\": 33444,\n        \"samples\": [\n          \"US death toll is way less than estimated. This I hope will bring back consumer confidence #coronavirus #Covid_19 #CoronavirusUSA\",\n          \"We will get through this by people helping people and not stock piling food and toiletries, selfish pricks #Covid_19\",\n          \"#rice prices soar to two-year high, traders blame it on #coronavirus panic buying, writes #YasirWardad https://t.co/hIXzS1DKdo #FE via @febdonline\"\n        ],\n        \"semantic_type\": \"\",\n        \"description\": \"\"\n      }\n    },\n    {\n      \"column\": \"Sentiment\",\n      \"properties\": {\n        \"dtype\": \"number\",\n        \"std\": 0,\n        \"min\": 0,\n        \"max\": 1,\n        \"num_unique_values\": 2,\n        \"samples\": [\n          0,\n          1\n        ],\n        \"semantic_type\": \"\",\n        \"description\": \"\"\n      }\n    }\n  ]\n}"
            }
          },
          "metadata": {},
          "execution_count": 60
        }
      ],
      "source": [
        "def convert_sentiment(sentiment):\n",
        "    if sentiment in ['Positive', 'Extremely Positive']:\n",
        "        return 1\n",
        "    elif sentiment in ['Negative', 'Extremely Negative']:\n",
        "        return 0\n",
        "\n",
        "\n",
        "df['Sentiment'] = df['Sentiment'].apply(convert_sentiment)\n",
        "df"
      ]
    },
    {
      "cell_type": "markdown",
      "metadata": {
        "id": "pGq1FxJ-kBo5"
      },
      "source": [
        "Сбалансированы ли классы?"
      ]
    },
    {
      "cell_type": "code",
      "execution_count": 61,
      "metadata": {
        "colab": {
          "base_uri": "https://localhost:8080/"
        },
        "id": "a7gdNtxckK5V",
        "outputId": "880c030c-8eb8-4281-fe0a-0890171167b6"
      },
      "outputs": [
        {
          "output_type": "execute_result",
          "data": {
            "text/plain": [
              "Sentiment\n",
              "1    18046\n",
              "0    15398\n",
              "Name: count, dtype: int64"
            ]
          },
          "metadata": {},
          "execution_count": 61
        }
      ],
      "source": [
        "balance = df['Sentiment'].value_counts()\n",
        "balance"
      ]
    },
    {
      "cell_type": "markdown",
      "metadata": {
        "id": "Ng8BCelMkWb0"
      },
      "source": [
        "**Ответ:** # классы вполне сбалансированы\n"
      ]
    },
    {
      "cell_type": "markdown",
      "metadata": {
        "id": "qmSIBSsLk5Zz"
      },
      "source": [
        "Выведете на экран информацию о пропусках в данных. Если пропуски присутствуют заполните их строкой 'Unknown'."
      ]
    },
    {
      "cell_type": "code",
      "execution_count": 62,
      "metadata": {
        "colab": {
          "base_uri": "https://localhost:8080/"
        },
        "id": "UhUVRkR5kxa7",
        "outputId": "5be099a4-6592-4ed6-c6d0-eb2259e51e14"
      },
      "outputs": [
        {
          "output_type": "execute_result",
          "data": {
            "text/plain": [
              "UserName            0\n",
              "ScreenName          0\n",
              "Location         7049\n",
              "TweetAt             0\n",
              "OriginalTweet       0\n",
              "Sentiment           0\n",
              "dtype: int64"
            ]
          },
          "metadata": {},
          "execution_count": 62
        }
      ],
      "source": [
        "df.isnull().sum()"
      ]
    },
    {
      "cell_type": "markdown",
      "metadata": {
        "id": "J2AF9lqHSwsF"
      },
      "source": [
        "Видим пропуски в столбце Location, заполним их"
      ]
    },
    {
      "cell_type": "code",
      "execution_count": 63,
      "metadata": {
        "colab": {
          "base_uri": "https://localhost:8080/"
        },
        "id": "MDSZmstlS2Rq",
        "outputId": "6d5b7a15-1889-448f-bf16-05304df31561"
      },
      "outputs": [
        {
          "output_type": "execute_result",
          "data": {
            "text/plain": [
              "UserName         0\n",
              "ScreenName       0\n",
              "Location         0\n",
              "TweetAt          0\n",
              "OriginalTweet    0\n",
              "Sentiment        0\n",
              "dtype: int64"
            ]
          },
          "metadata": {},
          "execution_count": 63
        }
      ],
      "source": [
        "df.fillna('Unknown', inplace=True)\n",
        "df.isnull().sum()"
      ]
    },
    {
      "cell_type": "markdown",
      "metadata": {
        "id": "tTTarZDjTBfZ"
      },
      "source": [
        "На всякий случай проверили, все ли хорошо --- да, можем двигаться дальше"
      ]
    },
    {
      "cell_type": "markdown",
      "metadata": {
        "id": "1tzt27tfjUpq"
      },
      "source": [
        "Разделите данные на обучающие и тестовые в соотношении 7 : 3 и `random_state=0`"
      ]
    },
    {
      "cell_type": "code",
      "execution_count": 64,
      "metadata": {
        "colab": {
          "base_uri": "https://localhost:8080/"
        },
        "id": "xSLOA9tIj9Z6",
        "outputId": "d8234b3e-4d4a-4dd9-de53-e6587716ba00"
      },
      "outputs": [
        {
          "output_type": "stream",
          "name": "stdout",
          "text": [
            "Обучающая выборка: (23410, 6), Тестовая выборка: (10034, 6)\n"
          ]
        }
      ],
      "source": [
        "from sklearn.model_selection import train_test_split\n",
        "X_train, X_test = train_test_split(df, test_size=0.3, random_state=0)\n",
        "print(f'Обучающая выборка: {X_train.shape}, Тестовая выборка: {X_test.shape}')"
      ]
    },
    {
      "cell_type": "markdown",
      "metadata": {
        "id": "J9RrPUsJlL60"
      },
      "source": [
        "## Задание 2 Токенизация (3 балла)"
      ]
    },
    {
      "cell_type": "markdown",
      "metadata": {
        "id": "2Dz_b7Xopc_R"
      },
      "source": [
        "Постройте словарь на основе обучающей выборки и посчитайте количество встреч каждого токена с использованием самой простой токенизации - деления текстов по пробельным символам и приведение токенов в нижний регистр"
      ]
    },
    {
      "cell_type": "code",
      "execution_count": 65,
      "metadata": {
        "id": "SFr67WOJphny"
      },
      "outputs": [],
      "source": [
        "from collections import Counter\n",
        "token_counts = Counter()\n",
        "for text in X_train['OriginalTweet']:\n",
        "    tokens = text.lower().split()\n",
        "    token_counts.update(tokens)\n",
        "tokens_all = list(token_counts.keys())\n"
      ]
    },
    {
      "cell_type": "markdown",
      "metadata": {
        "id": "Pe0h2Jqkpnao"
      },
      "source": [
        "Какой размер словаря получился?"
      ]
    },
    {
      "cell_type": "code",
      "execution_count": 66,
      "metadata": {
        "colab": {
          "base_uri": "https://localhost:8080/"
        },
        "id": "umyENA7EpokD",
        "outputId": "a63b0274-8953-479e-8de8-7890a95cfd25"
      },
      "outputs": [
        {
          "output_type": "stream",
          "name": "stdout",
          "text": [
            "Размер словаря: 79755\n"
          ]
        }
      ],
      "source": [
        "print(f'Размер словаря: {len(token_counts)}')\n"
      ]
    },
    {
      "cell_type": "markdown",
      "metadata": {
        "id": "0d2G1Z-Qpqkd"
      },
      "source": [
        "Выведите 10 самых популярных токенов с количеством встреч каждого из них. Объясните, почему именно эти токены в топе"
      ]
    },
    {
      "cell_type": "code",
      "execution_count": 67,
      "metadata": {
        "colab": {
          "base_uri": "https://localhost:8080/"
        },
        "id": "Impi32a_pssg",
        "outputId": "d7312fb5-55e8-4414-aa05-f7900cd8ddf0"
      },
      "outputs": [
        {
          "output_type": "stream",
          "name": "stdout",
          "text": [
            "the: 26815\n",
            "to: 23373\n",
            "and: 14684\n",
            "of: 13012\n",
            "a: 11737\n",
            "in: 11198\n",
            "for: 8566\n",
            "#coronavirus: 8223\n",
            "is: 7383\n",
            "are: 7050\n"
          ]
        }
      ],
      "source": [
        "top_tokens = token_counts.most_common(10)\n",
        "for token, freq in top_tokens:\n",
        "    print(f'{token}: {freq}')\n"
      ]
    },
    {
      "cell_type": "markdown",
      "metadata": {
        "id": "ZtuJCD0ApuFd"
      },
      "source": [
        "**Ответ:** # наиболее часто встречающиеся токены — это стоп-слова (предлоги, союзы и артикли) потому что они являются основой для построения предложений в языке. хЕШТЕГ токен связан (и буквально является) с основной темой твитов, поэтому и находится в топе. Мы не чистили дынные от стоп слов, поэтому и получили такой топ"
      ]
    },
    {
      "cell_type": "markdown",
      "metadata": {
        "id": "T7DTQDkWsVYp"
      },
      "source": [
        "Удалите стоп-слова из словаря и выведите новый топ-10 токенов (и количество встреч) по популярности.  Что можно сказать  о нем?"
      ]
    },
    {
      "cell_type": "code",
      "execution_count": 68,
      "metadata": {
        "colab": {
          "base_uri": "https://localhost:8080/"
        },
        "id": "8csSAdgTsnFx",
        "outputId": "5af00c70-4a14-4095-8060-77964853084b"
      },
      "outputs": [
        {
          "output_type": "stream",
          "name": "stdout",
          "text": [
            "#coronavirus: 8223\n",
            "prices: 3891\n",
            "food: 3820\n",
            "grocery: 3469\n",
            "supermarket: 3288\n",
            "people: 3175\n",
            "covid-19: 3173\n",
            "store: 3155\n",
            "#covid19: 2471\n",
            "&amp;: 2314\n"
          ]
        }
      ],
      "source": [
        "import nltk\n",
        "from nltk.corpus import stopwords\n",
        "\n",
        "nltk.download('stopwords', quiet=True)\n",
        "stop_words = set(stopwords.words('english'))\n",
        "filtered_token_counts = {token: count for token, count in token_counts.items() if token not in stop_words}\n",
        "counter = Counter(filtered_token_counts)\n",
        "top_filtered_tokens = counter.most_common(10)\n",
        "for token, freq in top_filtered_tokens:\n",
        "    print(f'{token}: {freq}')"
      ]
    },
    {
      "cell_type": "markdown",
      "metadata": {
        "id": "LZH0x2Lzs-Dh"
      },
      "source": [
        "**Ответ:**  # стало сильно лучше, однако непонятен последний токен, состоящий из странных символов. А так, он вполне отражает популярные слова и хештеги во время пандемии"
      ]
    },
    {
      "cell_type": "markdown",
      "metadata": {
        "id": "TKSGRyI-uor0"
      },
      "source": [
        "Также выведите 20 самых непопулярных слов (если самых непопулярных слов больше выведите любые 20 из них) Почему эти токены непопулярны, требуется ли как-то дополнительно работать с ними?"
      ]
    },
    {
      "cell_type": "code",
      "execution_count": 69,
      "metadata": {
        "colab": {
          "base_uri": "https://localhost:8080/"
        },
        "id": "moArbwfvun9t",
        "outputId": "c6821fc7-bf19-4584-dd95-a75d3033fe2a"
      },
      "outputs": [
        {
          "output_type": "stream",
          "name": "stdout",
          "text": [
            "https://t.co/7j2y3rsld9: 1\n",
            "@680news: 1\n",
            "@torontopearson: 1\n",
            "nothing...: 1\n",
            "flew: 1\n",
            "wage!: 1\n",
            "renewing: 1\n",
            "playersãâ: 1\n",
            "subsidise: 1\n",
            "non-playing: 1\n",
            "premiership: 1\n",
            "https://t.co/iaek4fwsgz: 1\n",
            "@srinivasiyc: 1\n",
            "https://t.co/zjcl195vqs: 1\n",
            "#southkerry: 1\n",
            "#skelligcoast2kms: 1\n",
            "@skelligsix18: 1\n",
            "closer!): 1\n",
            "coast!: 1\n",
            "skellig: 1\n"
          ]
        }
      ],
      "source": [
        "least_common_tokens = token_counts.most_common()[:-21:-1]\n",
        "for token, freq in least_common_tokens:\n",
        "    print(f'{token}: {freq}')"
      ]
    },
    {
      "cell_type": "markdown",
      "metadata": {
        "id": "uRp3J1gQunlR"
      },
      "source": [
        "**Ответ:** # в основном здесь наблюдаются отметки каких-то пользователей, вероятно ссылки на профили, слова с опечатками. Так как мы занимаемся определением тональности твитов, стоит убрать редко встречающиеся токены, чтобы сконцентрироваться на более общих и распространенных словах.\n",
        "\n"
      ]
    },
    {
      "cell_type": "markdown",
      "metadata": {
        "id": "wx9LQOSPzvjV"
      },
      "source": [
        "Теперь воспользуемся токенайзером получше - TweetTokenizer из библиотеки nltk. Примените его и посмотрите на топ-10 популярных слов. Чем он отличается от топа, который получался раньше? Почему?"
      ]
    },
    {
      "cell_type": "code",
      "execution_count": 70,
      "metadata": {
        "colab": {
          "base_uri": "https://localhost:8080/"
        },
        "id": "2G1UkyVxzvFY",
        "outputId": "b1b79a58-80e0-45fc-a350-e3b2612a77e6"
      },
      "outputs": [
        {
          "output_type": "stream",
          "name": "stdout",
          "text": [
            "the: 26993\n",
            ".: 24118\n",
            "to: 23478\n",
            ",: 17571\n",
            "and: 14825\n",
            "of: 13044\n",
            "a: 11891\n",
            "in: 11348\n",
            "?: 9524\n",
            "#coronavirus: 8808\n"
          ]
        }
      ],
      "source": [
        "import warnings\n",
        "from collections import Counter\n",
        "import nltk\n",
        "import pandas as pd\n",
        "from nltk.tokenize import TweetTokenizer\n",
        "warnings.filterwarnings(\"ignore\")\n",
        "nltk.download(\"punkt\", quiet=True)\n",
        "\n",
        "\n",
        "tw = TweetTokenizer()\n",
        "X_train['Tokenized'] = X_train['OriginalTweet'].str.lower().apply(tw.tokenize)\n",
        "all_tokens_tw = sum(X_train['Tokenized'], [])\n",
        "token_counts_tw = Counter(all_tokens_tw)\n",
        "top_tokens_tw = token_counts_tw.most_common(10)\n",
        "\n",
        "\n",
        "for token, freq in top_tokens_tw:\n",
        "    print(f'{token}: {freq}')"
      ]
    },
    {
      "cell_type": "markdown",
      "metadata": {
        "id": "50eVUnJN1Zxl"
      },
      "source": [
        "**Ответ:** # если говорить в целом про набор токенов (не учитывая появившиеся знаки препинания), то можем увидеть, что частота некоторых слов увеличилась: это может быть связано с тем, что TweetTokenizer более точно разделяет текст на токены, что приводит к увеличению частоты отдельных слов.\n",
        "\n"
      ]
    },
    {
      "cell_type": "markdown",
      "metadata": {
        "id": "1gqQgiMs11bs"
      },
      "source": [
        "Удалите из словаря стоп-слова и пунктуацию, посмотрите на новый топ-10 слов с количеством встреч, есть ли теперь в нем что-то не похожее на слова?"
      ]
    },
    {
      "cell_type": "code",
      "execution_count": 71,
      "metadata": {
        "colab": {
          "base_uri": "https://localhost:8080/"
        },
        "id": "0yHWdFrp0Mup",
        "outputId": "b05ed89f-10b5-41df-c812-773879ca5b10"
      },
      "outputs": [
        {
          "output_type": "stream",
          "name": "stdout",
          "text": [
            "#coronavirus: 8808\n",
            "â: 7415\n",
            ": 7311\n",
            "19: 7167\n",
            "covid: 6253\n",
            "prices: 4601\n",
            ": 4372\n",
            "food: 4367\n",
            "store: 3877\n",
            "supermarket: 3805\n"
          ]
        }
      ],
      "source": [
        "from nltk.corpus import stopwords\n",
        "import string\n",
        "nltk.download('stopwords', quiet=True)\n",
        "stop_words = set(stopwords.words('english'))\n",
        "\n",
        "filtered_tokens_tw = {token: count for token, count in token_counts_tw.items() if token not in stop_words and token not in string.punctuation}\n",
        "filtered_token_counts_tw = Counter(filtered_tokens_tw)\n",
        "\n",
        "top_10_filtered_tw = filtered_token_counts_tw.most_common(10)\n",
        "\n",
        "\n",
        "for token, freq in top_10_filtered_tw:\n",
        "    print(f'{token}: {freq}')\n"
      ]
    },
    {
      "cell_type": "markdown",
      "metadata": {
        "id": "8ZJqXELP_Yxy"
      },
      "source": [
        "**Ответ:** # ура, появились новые, более значимые токены! Но все еще есть предлоги из других языков и неизвестные символы, которые нам мешают"
      ]
    },
    {
      "cell_type": "markdown",
      "metadata": {
        "id": "rzXjMsSB_kXB"
      },
      "source": [
        "Удалите из словаря токены из одного символа, с позицией в таблице Unicode 128 и более (`ord(x) >= 128`)\n",
        "\n",
        "Выведите топ-10 самых популярных и топ-20 непопулярных слов. Чем полученные топы отличаются от итоговых топов, полученных при использовании токенизации по пробелам? Что теперь лучше, а что хуже?"
      ]
    },
    {
      "cell_type": "code",
      "execution_count": 72,
      "metadata": {
        "colab": {
          "base_uri": "https://localhost:8080/"
        },
        "id": "1695hlkS_1-J",
        "outputId": "9839784e-a54d-4732-fda7-25fb6c46e5af"
      },
      "outputs": [
        {
          "output_type": "stream",
          "name": "stdout",
          "text": [
            "Топ-10 самых популярных слов:\n",
            "#coronavirus: 8808\n",
            "19: 7167\n",
            "covid: 6253\n",
            "prices: 4601\n",
            "food: 4367\n",
            "store: 3877\n",
            "supermarket: 3805\n",
            "grocery: 3523\n",
            "people: 3463\n",
            "#covid19: 2589\n",
            "\n",
            "Топ-20 непопулярных слов:\n",
            "https://t.co/pd6ual9yfi: 1\n",
            "https://t.co/lw1r0rm7xs: 1\n",
            "https://t.co/5cbliqzx7l: 1\n",
            "now.when: 1\n",
            "milion: 1\n",
            "skellig: 1\n",
            "@skelligsix18: 1\n",
            "#skelligcoast2kms: 1\n",
            "#southkerry: 1\n",
            "https://t.co/zjcl195vqs: 1\n",
            "@srinivasiyc: 1\n",
            "https://t.co/iaek4fwsgz: 1\n",
            "premiership: 1\n",
            "non-playing: 1\n",
            "subsidise: 1\n",
            "renewing: 1\n",
            "flew: 1\n",
            "@torontopearson: 1\n",
            "@680news: 1\n",
            "https://t.co/7j2y3rsld9: 1\n"
          ]
        }
      ],
      "source": [
        "filtered_tokens_new = {token: count for token, count in filtered_tokens_tw.items() if len(token) > 1 and all(ord(char) < 128 for char in token)}\n",
        "filtered_token_counts_new = Counter(filtered_tokens_new)\n",
        "top_10_popular_new = filtered_token_counts_new.most_common(10)\n",
        "top_20_unpopular_new = filtered_token_counts_new.most_common()[-20:]\n",
        "\n",
        "\n",
        "print(\"Топ-10 самых популярных слов:\")\n",
        "for token, freq in top_10_popular_new:\n",
        "    print(f'{token}: {freq}')\n",
        "\n",
        "\n",
        "print(\"\\nТоп-20 непопулярных слов:\")\n",
        "for token, freq in top_20_unpopular_new:\n",
        "    print(f'{token}: {freq}')\n"
      ]
    },
    {
      "cell_type": "markdown",
      "metadata": {
        "id": "KzjHAKIlDvc6"
      },
      "source": [
        "**Ответ:** # Топ-10 самых популярных слов отражает ключевые темы, связанные с пандемией, что указывает на высокую частоту обсуждения вируса, его последствий, в особенности связанных с продуктами и магазинами. В топ-20 наименее популярных токенах все так же встречаются ссылки, упоминания конкретных аккаунтов, появились числа. В топ-10 теперь слова, действительно содержательные и понятные, наименее популярные теперь без знаков препинаний."
      ]
    },
    {
      "cell_type": "markdown",
      "metadata": {
        "id": "EcDf9_6HB2zm"
      },
      "source": [
        "Выведите топ-10 популярных хештегов с количеством встреч. Что можно сказать о них?"
      ]
    },
    {
      "cell_type": "code",
      "execution_count": 73,
      "metadata": {
        "colab": {
          "base_uri": "https://localhost:8080/"
        },
        "id": "zk4fygCUBw3l",
        "outputId": "ad10495f-d056-4592-afda-c1217bb425ce"
      },
      "outputs": [
        {
          "output_type": "stream",
          "name": "stdout",
          "text": [
            "Топ-10 популярных хештегов:\n",
            "#coronavirus: 8808\n",
            "#covid19: 2589\n",
            "#covid_19: 1734\n",
            "#covid2019: 946\n",
            "#toiletpaper: 744\n",
            "#covid: 641\n",
            "#socialdistancing: 465\n",
            "#coronacrisis: 448\n",
            "#pandemic: 257\n",
            "#coronaviruspandemic: 249\n"
          ]
        }
      ],
      "source": [
        "hashtags = {token: count for token, count in filtered_tokens_new.items() if token.startswith('#')}\n",
        "hashtag_counts = Counter(hashtags)\n",
        "top_10_hashtags = hashtag_counts.most_common(10)\n",
        "print(\"Топ-10 популярных хештегов:\")\n",
        "for hashtag, count in top_10_hashtags:\n",
        "    print(f'{hashtag}: {count}')"
      ]
    },
    {
      "cell_type": "markdown",
      "metadata": {
        "id": "-6NeNWBkDxM7"
      },
      "source": [
        "**Ответ:** # почти во всех хештегах упоминается covid или что угодно связанное с вирусом, что неудивительно, так как пандемия потрясла весь мир. Забавно, что один из наиболее популярных хештегов --- #toiletpaper, что напоминает нам о панической скупке туалетной бумаги, а также социальная дистанция --- одно из новый правил на следующие несколько лет"
      ]
    },
    {
      "cell_type": "markdown",
      "metadata": {
        "id": "LLYBg7caD5GA"
      },
      "source": [
        "То же самое проделайте для ссылок на сайт https://t.co Сравнима ли популярность ссылок с популярностью хештегов? Будет ли информация о ссылке на конкретную страницу полезна?"
      ]
    },
    {
      "cell_type": "code",
      "execution_count": 74,
      "metadata": {
        "colab": {
          "base_uri": "https://localhost:8080/"
        },
        "id": "MXbm1oeaCK9S",
        "outputId": "d435cbda-2410-4bba-b04e-a8f4440dbbd7"
      },
      "outputs": [
        {
          "output_type": "stream",
          "name": "stdout",
          "text": [
            "Топ-10 популярных ссылок:\n",
            "https://t.co/oxa7swtond: 5\n",
            "https://t.co/gp3eusapl8: 4\n",
            "https://t.co/wrlhyzizaa: 3\n",
            "https://t.co/kuwipf1kqw: 3\n",
            "https://t.co/zjnrx6dkkn: 3\n",
            "https://t.co/3gbbdpdjat: 3\n",
            "https://t.co/e2znxajpre: 3\n",
            "https://t.co/catkegayoy: 3\n",
            "https://t.co/g63rp042ho: 3\n",
            "https://t.co/aziqcdgrnn: 3\n"
          ]
        }
      ],
      "source": [
        "links = {token: count for token, count in filtered_tokens_new.items() if token.startswith('https://t.co')}\n",
        "links_counts = Counter(links)\n",
        "top_10_links = links_counts.most_common(10)\n",
        "print(\"Топ-10 популярных ссылок:\")\n",
        "for link, count in top_10_links:\n",
        "    print(f'{link}: {count}')"
      ]
    },
    {
      "cell_type": "markdown",
      "metadata": {
        "id": "at6lRYZ8A07N"
      },
      "source": [
        "**Ответ:** # количество упоминаний каждой ссылки не превышает даже 5, относительно размеров нашего датасета это ничтожно мало, так что никакой важной информации они нам не дадут."
      ]
    },
    {
      "cell_type": "markdown",
      "metadata": {
        "id": "IOGdUU1kBU1D"
      },
      "source": [
        "Используем опыт предыдущих экспериментов и напишем собственный токенайзер, улучшив TweetTokenizer. Функция tokenize должна:\n",
        "\n",
        "\n",
        "\n",
        "*   Привести текст в нижний регистр\n",
        "*   Применить TweetTokenizer для изначального выделения токенов\n",
        "*   Удалить стоп-слова, пунктуацию, токены из одного символа, с позицией в таблице Unicode 128 и более и ссылки на t.co\n",
        "\n"
      ]
    },
    {
      "cell_type": "code",
      "execution_count": 75,
      "metadata": {
        "id": "ctEsB6xkFrrK"
      },
      "outputs": [],
      "source": [
        "from string import punctuation\n",
        "noise = stopwords.words(\"english\") + list(punctuation)\n",
        "\n",
        "def custom_tokenizer(text):\n",
        "  tw = TweetTokenizer()\n",
        "  text = text.lower()\n",
        "  tokens = [token for token in tw.tokenize(text) if (token not in noise) and not(len(token) == 1 and ord(token) >= 128) and not(token.startswith('https://t.co')) ]\n",
        "  return tokens\n"
      ]
    },
    {
      "cell_type": "code",
      "execution_count": 76,
      "metadata": {
        "colab": {
          "base_uri": "https://localhost:8080/"
        },
        "id": "XwbgtYkJGYym",
        "outputId": "70808995-a183-4dea-a14e-c25669b24b0f"
      },
      "outputs": [
        {
          "output_type": "execute_result",
          "data": {
            "text/plain": [
              "['sample', 'text', '@sample_text', '#sampletext']"
            ]
          },
          "metadata": {},
          "execution_count": 76
        }
      ],
      "source": [
        "custom_tokenizer('This is sample text!!!! @Sample_text I, \\x92\\x92 https://t.co/sample  #sampletext')"
      ]
    },
    {
      "cell_type": "markdown",
      "metadata": {
        "id": "wURVABmXHk97"
      },
      "source": [
        "## Задание 3 Векторизация текстов (2 балла)"
      ]
    },
    {
      "cell_type": "markdown",
      "metadata": {
        "id": "H44iXkoHIQfN"
      },
      "source": [
        "Обучите CountVectorizer с использованием custom_tokenizer в качестве токенайзера. Как размер полученного словаря соотносится с размером изначального словаря из начала задания 2?"
      ]
    },
    {
      "cell_type": "code",
      "execution_count": 77,
      "metadata": {
        "colab": {
          "base_uri": "https://localhost:8080/"
        },
        "id": "gHn_limQl3BI",
        "outputId": "e83c1292-7f51-45ed-e60d-963d0c7cc1fe"
      },
      "outputs": [
        {
          "output_type": "stream",
          "name": "stdout",
          "text": [
            "45308\n"
          ]
        }
      ],
      "source": [
        "from sklearn.feature_extraction.text import CountVectorizer\n",
        "\n",
        "cv = CountVectorizer(tokenizer=custom_tokenizer)\n",
        "cv.fit(X_train['OriginalTweet'])\n",
        "print(len(cv.vocabulary_))\n"
      ]
    },
    {
      "cell_type": "markdown",
      "metadata": {
        "id": "gsfmaSGoItUm"
      },
      "source": [
        "**Ответ:** Размер словаря изменился в 2 раза, а значит, мы очистили наши токены достаточно хорошо"
      ]
    },
    {
      "cell_type": "markdown",
      "metadata": {
        "id": "lm6UHNmqKZT0"
      },
      "source": [
        "Посмотрим на какой-нибудь конкретный твитт:"
      ]
    },
    {
      "cell_type": "code",
      "execution_count": 78,
      "metadata": {
        "colab": {
          "base_uri": "https://localhost:8080/"
        },
        "id": "aJVjjfqOJh8m",
        "outputId": "f4a548a8-2263-488b-8fdb-6d169eba666b"
      },
      "outputs": [
        {
          "output_type": "execute_result",
          "data": {
            "text/plain": [
              "('Nice one @SkyNews lets not panic but show ppl in france queueing for food!!! #CoronavirusOutbreak #COVID2019 brainless!! Ffs',\n",
              " 0)"
            ]
          },
          "metadata": {},
          "execution_count": 78
        }
      ],
      "source": [
        "ind = 9023\n",
        "X_train.iloc[ind]['OriginalTweet'], X_train.iloc[ind]['Sentiment']"
      ]
    },
    {
      "cell_type": "markdown",
      "metadata": {
        "id": "PBMIHBI5KdaS"
      },
      "source": [
        "Автор твитта не доволен ситуацией с едой во Франции и текст имеет резко негативную окраску.\n",
        "\n",
        "Примените обученный CountVectorizer для векторизации данного текста, и попытайтесь определить самый важный токен и самый неважный токен (токен, компонента которого в векторе максимальна/минимальна, без учета 0). Хорошо ли они определились, почему?"
      ]
    },
    {
      "cell_type": "code",
      "execution_count": 79,
      "metadata": {
        "colab": {
          "base_uri": "https://localhost:8080/"
        },
        "id": "7NcAllaEKsJj",
        "outputId": "607bac88-1e17-47f0-9dc2-741121f2d810"
      },
      "outputs": [
        {
          "output_type": "stream",
          "name": "stdout",
          "text": [
            "Самый важный токен: #coronavirusoutbreak\n",
            "Самый неважный токен: #coronavirusoutbreak\n"
          ]
        }
      ],
      "source": [
        "cv.fit(X_train['OriginalTweet'])\n",
        "tweet_vector = cv.transform([X_train.iloc[ind]['OriginalTweet']]).toarray()\n",
        "max_index = tweet_vector.argmax()\n",
        "min_value = tweet_vector[tweet_vector > 0].min()\n",
        "min_index = np.where(tweet_vector == min_value)[1][0]\n",
        "tokens = cv.get_feature_names_out()\n",
        "most_important_token = tokens[max_index]\n",
        "least_important_token = tokens[min_index]\n",
        "print(f'Самый важный токен: {most_important_token}')\n",
        "print(f'Самый неважный токен: {least_important_token}')\n",
        "\n"
      ]
    },
    {
      "cell_type": "markdown",
      "metadata": {
        "id": "TpEsl1k_NF4T"
      },
      "source": [
        "**Ответ:** # не очень хорошо, так как мы получили в обоих случаях одно и то же, что не очень помогает описать тональность твита и его суть\n"
      ]
    },
    {
      "cell_type": "markdown",
      "metadata": {
        "id": "w4DsEQpLO3J6"
      },
      "source": [
        "Теперь примените TfidfVectorizer и  определите самый важный/неважный токены. Хорошо ли определились, почему?"
      ]
    },
    {
      "cell_type": "code",
      "execution_count": 80,
      "metadata": {
        "colab": {
          "base_uri": "https://localhost:8080/"
        },
        "id": "uSNzdK3ENGB3",
        "outputId": "7130e7d0-af53-44ea-c2ea-837060278bb8"
      },
      "outputs": [
        {
          "output_type": "stream",
          "name": "stdout",
          "text": [
            "Самый важный токен: brainless\n",
            "Самый неважный токен: food\n"
          ]
        }
      ],
      "source": [
        "from sklearn.feature_extraction.text import TfidfVectorizer\n",
        "tf = TfidfVectorizer(tokenizer=custom_tokenizer)\n",
        "tf.fit(X_train['OriginalTweet'])\n",
        "tweet_vector = tf.transform([X_train.iloc[ind]['OriginalTweet']]).toarray()\n",
        "max_index = tweet_vector.argmax()\n",
        "min_value = tweet_vector[tweet_vector > 0].min()\n",
        "min_index = np.where(tweet_vector == min_value)[1][0]\n",
        "tokens = tf.get_feature_names_out()\n",
        "most_important_token = tokens[max_index]\n",
        "least_important_token = tokens[min_index]\n",
        "print(f'Самый важный токен: {most_important_token}')\n",
        "print(f'Самый неважный токен: {least_important_token}')"
      ]
    },
    {
      "cell_type": "markdown",
      "metadata": {
        "id": "NYao_UhqQADm"
      },
      "source": [
        "**Ответ:** # теперь токены определились достаточн хорошо, так как самый важный токен в целом отображает суть твита и по нему достаточно просто определить, что твит негативный"
      ]
    },
    {
      "cell_type": "markdown",
      "metadata": {
        "id": "LGRJPqfWSesQ"
      },
      "source": [
        "Найдите какой-нибудь положительно окрашенный твитт, где TfidfVectorizer хорошо (полезно для определения окраски) выделяет важный токен, поясните пример.\n",
        "\n",
        "*Подсказка:* явно положительные твитты можно искать при помощи положительных слов (good, great, amazing и т. д.)"
      ]
    },
    {
      "cell_type": "code",
      "execution_count": 81,
      "metadata": {
        "colab": {
          "base_uri": "https://localhost:8080/",
          "height": 1000
        },
        "id": "bRbQ2CHiSuJI",
        "outputId": "ef56b0c0-c6b9-4344-f1fb-e7ade1fbabbe"
      },
      "outputs": [
        {
          "output_type": "execute_result",
          "data": {
            "text/plain": [
              "       UserName  ScreenName                        Location     TweetAt  \\\n",
              "11966     18316       63268                         Unknown  21-03-2020   \n",
              "5973      11052       56004                    Brooklyn, NY  19-03-2020   \n",
              "7138      12468       57420                           Earth  20-03-2020   \n",
              "30611     41445       86397  Yorkshire, UK; Pasifika; et al  10-04-2020   \n",
              "22029     30695       75647                          Mumbai  02-04-2020   \n",
              "18398     26181       71133                  Long Beach, CA  25-03-2020   \n",
              "29239     39679       84631                         Unknown  09-04-2020   \n",
              "22101     30793       75745                    Bad, Wildbad  02-04-2020   \n",
              "26321     36044       80996                         Unknown  07-04-2020   \n",
              "12531     18992       63944          London/Sweden/Istanbul  22-03-2020   \n",
              "21821     30434       75386          Milton Keynes, England  02-04-2020   \n",
              "18953     26873       71825                         Nigeria  25-03-2020   \n",
              "11560     17818       62770        London / Prague / Berlin  21-03-2020   \n",
              "11051     17210       62162             South Carolina, USA  21-03-2020   \n",
              "20464     28769       73721                           Abuja  28-03-2020   \n",
              "29873     40481       85433                         Unknown  09-04-2020   \n",
              "26201     35898       80850                   Owensboro, KY  07-04-2020   \n",
              "3615       8194       53146                     Switzerland  18-03-2020   \n",
              "3054       7497       52449                             USA  18-03-2020   \n",
              "17338     24893       69845                 Toronto Ontario  25-03-2020   \n",
              "24706     34035       78987                         Unknown  06-04-2020   \n",
              "18653     26506       71458      Victoria, British Columbia  25-03-2020   \n",
              "14393     21280       66232                  Washington, DC  23-03-2020   \n",
              "10751     16845       61797                         Unknown  21-03-2020   \n",
              "5803      10850       55802                              NJ  19-03-2020   \n",
              "5336      10287       55239                         Unknown  19-03-2020   \n",
              "27083     37010       81962                  Ocean City, MD  07-04-2020   \n",
              "5959      11034       55986                      California  19-03-2020   \n",
              "6341      11497       56449                 California, USA  19-03-2020   \n",
              "\n",
              "                                                                                                                                                                                                                                                                                                                   OriginalTweet  \\\n",
              "11966                                                                                                                                                                                                                                           I said thank you to grocery store clerks before it was cool ?????\\r\\r\\n#Covid_19   \n",
              "5973                                                           This was a tough one to write given the #pandemic weÃÂre currently facing. Though as a #marketing nerd, there are super cool insights to take in given the shifts the #coronavirus is having on consumer behavior and media consumption https://t.co/mbpKHHJ3os   \n",
              "7138                                                          @DrSundara3 Most probably in cool air conditioned environment. Follow the equator.\\r\\r\\nhttps://t.co/zu2fCHMEyn If so even icu could be a conducive environment and the only solution is alcohol sprays. Supply large quantities to every street for decontaminati   \n",
              "30611                                                            @nicolasnicola22 @ChunhuaMs @Aussieneets @RussellMoxham @debbie_spirit @griffjane @orangulandtrust @orangutans @WildlingRocks @Ness4612R @samcoyi @DrBirute @coolrunning2009 @BlueSeas111 @RedFoxGIS @EmilyLe89720714 @orangutan2 @RedOrangutangen @ForestPeopl   \n",
              "22029                      #NewsUpdate | Australian #home prices extended gains in March, although conditions are expected to cool as #coronavirus pandemic causes widespread economic disruption and hits household confidence\\r\\r\\n\\r\\r\\n#australia #realestate #property #RealEstateNews #realty\\r\\r\\nhttps://t.co/kZrBLP7o7W   \n",
              "18398                                                                                                                                                                                                                                     A cool site that shows consumer behavior trends since COVID-19 https://t.co/7YuAhgRxz0   \n",
              "29239                                                                                                                             Very cool to see the Muddy River Distillery manufacturing hand sanitizer for first responders I am thankful for the many ways the community is supporting one another in our fight against the   \n",
              "22101                           The little neighbourhood I live in is culturally vibrant - just dense with cool shops, markets, and restaurants. A lot of them are closed now and I wonder what percentage will open post #coronavirus.\\r\\r\\n\\r\\r\\nTruly regret just going to my closest Starbucks and supermarket all the time.   \n",
              "26321                                                                                                                                                     Anyone else feel like the grocery store is the new cool hangout?  ItÃÂs always so busy!  #StayAtHomeAndStaySafe #StayHomeForNevada #SocialDistance #socialdistancing   \n",
              "12531                                                                                                                                                    A big shout out to all the moms like mine who were carrying hand sanitizer in their purses and using tissues to open doors in public places waaaaay before made it cool   \n",
              "21821                                                                  Supermarkets are keeping cool and keeping us fed despite the massive pressure they've faced over the past few weeks due to #coronavirus- Our CEO, Frank Jones, explains how #RetailTech is driving their resilience...\\r\\r\\n\\r\\r\\nhttps://t.co/3dsf1pAjdK   \n",
              "18953                                               Covid - 19 has very similar symptoms with everyday illnesses like flu, cold and allergies. \\r\\r\\n\\r\\r\\nBE AWARE, BE CAREFUL\\r\\r\\n\\r\\r\\nYankistore is still in the business of bringing you cool products at great prices.\\r\\r\\n\\r\\r\\n#stayathomeÃÂ\n",
              " https://t.co/hEtypvctbU   \n",
              "11560                                                                    Some cool numbers from #Yelp - a little bit of science from app usage...who goes up and who goes down in #coronavirus #covid19 #economy impact report -&gt; #pizzerias YES! #fastfood ok! #grocery YES! https://t.co/z5EAAvsvrE https://t.co/pM2uSfEiFn   \n",
              "11051                                                                                                    Day 3 of 35 in a splint: I got treats, tweets, toys, plenty of food. A hooman on demand cos of #Covid_19. How\\r\\r\\ncool is that? A pug for company in the event the humans leave for errands... https://t.co/9IUUGIWoX1   \n",
              "20464                                                 My own little way of saying this \"too shall pass\".. Please stay safe \\r\\r\\n#coronavirus\\r\\r\\n#covid19\\r\\r\\n#staycoronafree\\r\\r\\n#sanitizer #sanitize #quarantine #washyourhands\\r\\r\\n? @creative_papilo\\r\\r\\n\\r\\r\\nCc @sophiecoolfm @daisyjustcool https://t.co/n0U6ezgMQ2   \n",
              "29873                                                          @trump_girl45 @Isthiscool_ @GovernorTomWolf A lot of people DO NOT know what to do! Going to the grocery store is ridiculous as people DO NOT know how to keep their distance! If you canÃÂt be trusted to go to the grocery store properly, how do you open up   \n",
              "26201                                                                                                                                                                                                                Local bourbon distillery is providing us with hand sanitizer. So cool. #coronavirus https://t.co/y6JqXoJXMl   \n",
              "3615                                                      Just back from the supermarket here in Switzerland.\\r\\r\\n\\r\\r\\nWe're on day 2 of a country-wide lock down and it looks like this.\\r\\r\\n\\r\\r\\nEveryone seems to be keeping their cool and doing what they need to do to get through this thing. https://t.co/egE6VGFcpL   \n",
              "3054                    If youÃÂve walked through a grocery store in the past week youÃÂve seen emptied shelves, coolers and meat counters. As Americans prepare for quarantine, beef, pork, poultry and shelf-stable items are among the first to go, following toilet paper, of course.\\r\\r\\n\\r\\r\\nhttps://t.co/DDqJXujOGO   \n",
              "17338                                                                                                                                                                                             Toronto s housing market has been very competitive the past few weeks but I m starting to see the momentum cool down this week   \n",
              "24706                                       When you go to the supermarket- please be mindful. If there are too many people down one aisle, go back when it is quieter! Walking past the staff stacking shelves as if they don't exist. This is not cool, please just think that little bit more. #keyworkers  #SocialDistancing   \n",
              "18653                                                                    Lineup to get in to the grocery store. They were only letting us in 1 at a time and only when someone else had left, and we had to stand on the lines 6 feet apart. It was like a COVID-19 Maxwell's Demon. It was pretty cool. https://t.co/wk5a9ZyRrX   \n",
              "14393  Stay safe and stay away. To beat this, we have to do this together. \\r\\r\\nIf you are doing online shopping, check us out at https://t.co/6xCWpOFiSg and learn about our groundbreaking suits\\r\\r\\n#coolactionsuit #CoronavirusOutbreak #SocialDistancing #coronavirus #PreventionOverPanic #SUITS https://t.co/X8olt2Ekle   \n",
              "10751                                                                                                      @amazon @AmazonKindle just wanted to say that I think it would be really cool if you lowered prices on your kindle devices while so many people are quarantined. #amazon #kindle #Covid_19 #StayAtHome #QuaratineLife   \n",
              "5803                                                      Pretty lucky the transition to WFH was pretty smooth for me, it's not for everyone though so it's cool to see how other businesses are helping their teams | @crossriverbank invests in employee, consumer initiatives amid #COVID19  https://t.co/sKzDrWGV1G #NJBanks   \n",
              "5336                                  I know they donÃÂt have time for it - but it would be cool to see Doctors, Nurses, Grocery Store Workers, and all of the people helping everyone get through this have the pre game introductions and walk out music that athletes get. RT if you agree! #realheros #coronavirus #corona   \n",
              "27083                                                          @people I think it would be so cool if your next issue didnÃÂt contain a single story or picture of any celebrities but only of real nurses, doctors, patients, truckers, grocery store and pharmacy workers, essential personnel. #TuesdayThoughts #coronaviru   \n",
              "5959                                                                                                                                              Going to the grocery store these days is becoming increasingly exciting... today I found an onion. I didnÃÂt buy it but it was a cool sighting. #coronavirus #quarantinelife   \n",
              "6341                                                                                                                                                                         He told wealthy friends. Then cashed out a cool $1.4m in stock. Then voted AGAINST the covid-19 relief bill. He needs to go https://t.co/kYolBg3ycv   \n",
              "\n",
              "       Sentiment  \\\n",
              "11966          1   \n",
              "5973           1   \n",
              "7138           1   \n",
              "30611          1   \n",
              "22029          1   \n",
              "18398          1   \n",
              "29239          1   \n",
              "22101          1   \n",
              "26321          1   \n",
              "12531          1   \n",
              "21821          1   \n",
              "18953          1   \n",
              "11560          1   \n",
              "11051          1   \n",
              "20464          1   \n",
              "29873          1   \n",
              "26201          1   \n",
              "3615           1   \n",
              "3054           1   \n",
              "17338          1   \n",
              "24706          1   \n",
              "18653          1   \n",
              "14393          1   \n",
              "10751          1   \n",
              "5803           1   \n",
              "5336           1   \n",
              "27083          1   \n",
              "5959           1   \n",
              "6341           1   \n",
              "\n",
              "                                                                                                                                                                                                                                                                                                                                                                      Tokenized  \n",
              "11966                                                                                                                                                                                                                                                                              [i, said, thank, you, to, grocery, store, clerks, before, it, was, cool, ?, ?, ?, #covid_19]  \n",
              "5973                                                     [this, was, a, tough, one, to, write, given, the, #pandemic, weã, , â, , re, currently, facing, ., though, as, a, #marketing, nerd, ,, there, are, super, cool, insights, to, take, in, given, the, shifts, the, #coronavirus, is, having, on, consumer, behavior, and, media, consumption, https://t.co/mbpkhhj3os]  \n",
              "7138                                                                   [@drsundara3, most, probably, in, cool, air, conditioned, environment, ., follow, the, equator, ., https://t.co/zu2fchmeyn, if, so, even, icu, could, be, a, conducive, environment, and, the, only, solution, is, alcohol, sprays, ., supply, large, quantities, to, every, street, for, decontaminati]  \n",
              "30611                                                                                       [@nicolasnicola22, @chunhuams, @aussieneets, @russellmoxham, @debbie_spirit, @griffjane, @orangulandtrust, @orangutans, @wildlingrocks, @ness4612r, @samcoyi, @drbirute, @coolrunning2009, @blueseas111, @redfoxgis, @emilyle89720714, @orangutan2, @redorangutangen, @forestpeopl]  \n",
              "22029                                                  [#newsupdate, |, australian, #home, prices, extended, gains, in, march, ,, although, conditions, are, expected, to, cool, as, #coronavirus, pandemic, causes, widespread, economic, disruption, and, hits, household, confidence, #australia, #realestate, #property, #realestatenews, #realty, https://t.co/kzrblp7o7w]  \n",
              "18398                                                                                                                                                                                                                                                                    [a, cool, site, that, shows, consumer, behavior, trends, since, covid, -, 19, https://t.co/7yuahgrxz0]  \n",
              "29239                                                                                                                                           [very, cool, to, see, the, muddy, river, distillery, manufacturing, hand, sanitizer, for, first, responders, i, am, thankful, for, the, many, ways, the, community, is, supporting, one, another, in, our, fight, against, the]  \n",
              "22101                           [the, little, neighbourhood, i, live, in, is, culturally, vibrant, -, just, dense, with, cool, shops, ,, markets, ,, and, restaurants, ., a, lot, of, them, are, closed, now, and, i, wonder, what, percentage, will, open, post, #coronavirus, ., truly, regret, just, going, to, my, closest, starbucks, and, supermarket, all, the, time, .]  \n",
              "26321                                                                                                                                                                     [anyone, else, feel, like, the, grocery, store, is, the, new, cool, hangout, ?, itã, , â, , s, always, so, busy, !, #stayathomeandstaysafe, #stayhomefornevada, #socialdistance, #socialdistancing]  \n",
              "12531                                                                                                                                                                  [a, big, shout, out, to, all, the, moms, like, mine, who, were, carrying, hand, sanitizer, in, their, purses, and, using, tissues, to, open, doors, in, public, places, waaaaay, before, made, it, cool]  \n",
              "21821                                                                                 [supermarkets, are, keeping, cool, and, keeping, us, fed, despite, the, massive, pressure, they've, faced, over, the, past, few, weeks, due, to, #coronavirus, -, our, ceo, ,, frank, jones, ,, explains, how, #retailtech, is, driving, their, resilience, ..., https://t.co/3dsf1pajdk]  \n",
              "18953                                                                                 [covid, -, 19, has, very, similar, symptoms, with, everyday, illnesses, like, flu, ,, cold, and, allergies, ., be, aware, ,, be, careful, yankistore, is, still, in, the, business, of, bringing, you, cool, products, at, great, prices, ., #stayathomeã, , â, https://t.co/hetypvctbu]  \n",
              "11560                                                                        [some, cool, numbers, from, #yelp, -, a, little, bit, of, science, from, app, usage, ..., who, goes, up, and, who, goes, down, in, #coronavirus, #covid19, #economy, impact, report, ->, #pizzerias, yes, !, #fastfood, ok, !, #grocery, yes, !, https://t.co/z5eaavsvre, https://t.co/pm2usfeifn]  \n",
              "11051                                                                                                [day, 3, of, 35, in, a, splint, :, i, got, treats, ,, tweets, ,, toys, ,, plenty, of, food, ., a, hooman, on, demand, cos, of, #covid_19, ., how, cool, is, that, ?, a, pug, for, company, in, the, event, the, humans, leave, for, errands, ..., https://t.co/9iuugiwox1]  \n",
              "20464                                                                                                    [my, own, little, way, of, saying, this, \", too, shall, pass, \", .., please, stay, safe, #coronavirus, #covid19, #staycoronafree, #sanitizer, #sanitize, #quarantine, #washyourhands, ?, @creative_papilo, cc, @sophiecoolfm, @daisyjustcool, https://t.co/n0u6ezgmq2]  \n",
              "29873                                           [@trump_girl45, @isthiscool_, @governortomwolf, a, lot, of, people, do, not, know, what, to, do, !, going, to, the, grocery, store, is, ridiculous, as, people, do, not, know, how, to, keep, their, distance, !, if, you, canã, , â, , t, be, trusted, to, go, to, the, grocery, store, properly, ,, how, do, you, open, up]  \n",
              "26201                                                                                                                                                                                                                                             [local, bourbon, distillery, is, providing, us, with, hand, sanitizer, ., so, cool, ., #coronavirus, https://t.co/y6jqxojxml]  \n",
              "3615                                                                          [just, back, from, the, supermarket, here, in, switzerland, ., we're, on, day, 2, of, a, country-wide, lock, down, and, it, looks, like, this, ., everyone, seems, to, be, keeping, their, cool, and, doing, what, they, need, to, do, to, get, through, this, thing, ., https://t.co/ege6vgfcpl]  \n",
              "3054   [if, youã, , â, , ve, walked, through, a, grocery, store, in, the, past, week, youã, , â, , ve, seen, emptied, shelves, ,, coolers, and, meat, counters, ., as, americans, prepare, for, quarantine, ,, beef, ,, pork, ,, poultry, and, shelf-stable, items, are, among, the, first, to, go, ,, following, toilet, paper, ,, of, course, ., https://t.co/ddqjxujogo]  \n",
              "17338                                                                                                                                                                                                                   [toronto, s, housing, market, has, been, very, competitive, the, past, few, weeks, but, i, m, starting, to, see, the, momentum, cool, down, this, week]  \n",
              "24706                        [when, you, go, to, the, supermarket, -, please, be, mindful, ., if, there, are, too, many, people, down, one, aisle, ,, go, back, when, it, is, quieter, !, walking, past, the, staff, stacking, shelves, as, if, they, don't, exist, ., this, is, not, cool, ,, please, just, think, that, little, bit, more, ., #keyworkers, #socialdistancing]  \n",
              "18653                                                    [lineup, to, get, in, to, the, grocery, store, ., they, were, only, letting, us, in, 1, at, a, time, and, only, when, someone, else, had, left, ,, and, we, had, to, stand, on, the, lines, 6, feet, apart, ., it, was, like, a, covid, -, 19, maxwell's, demon, ., it, was, pretty, cool, ., https://t.co/wk5a9zyrrx]  \n",
              "14393             [stay, safe, and, stay, away, ., to, beat, this, ,, we, have, to, do, this, together, ., if, you, are, doing, online, shopping, ,, check, us, out, at, https://t.co/6xcwpofisg, and, learn, about, our, groundbreaking, suits, #coolactionsuit, #coronavirusoutbreak, #socialdistancing, #coronavirus, #preventionoverpanic, #suits, https://t.co/x8olt2ekle]  \n",
              "10751                                                                                                                 [@amazon, @amazonkindle, just, wanted, to, say, that, i, think, it, would, be, really, cool, if, you, lowered, prices, on, your, kindle, devices, while, so, many, people, are, quarantined, ., #amazon, #kindle, #covid_19, #stayathome, #quaratinelife]  \n",
              "5803                                                          [pretty, lucky, the, transition, to, wfh, was, pretty, smooth, for, me, ,, it's, not, for, everyone, though, so, it's, cool, to, see, how, other, businesses, are, helping, their, teams, |, @crossriverbank, invests, in, employee, ,, consumer, initiatives, amid, #covid19, https://t.co/skzdrwgv1g, #njbanks]  \n",
              "5336            [i, know, they, donã, , â, , t, have, time, for, it, -, but, it, would, be, cool, to, see, doctors, ,, nurses, ,, grocery, store, workers, ,, and, all, of, the, people, helping, everyone, get, through, this, have, the, pre, game, introductions, and, walk, out, music, that, athletes, get, ., rt, if, you, agree, !, #realheros, #coronavirus, #corona]  \n",
              "27083                                             [@people, i, think, it, would, be, so, cool, if, your, next, issue, didnã, , â, , t, contain, a, single, story, or, picture, of, any, celebrities, but, only, of, real, nurses, ,, doctors, ,, patients, ,, truckers, ,, grocery, store, and, pharmacy, workers, ,, essential, personnel, ., #tuesdaythoughts, #coronaviru]  \n",
              "5959                                                                                                                                                  [going, to, the, grocery, store, these, days, is, becoming, increasingly, exciting, ..., today, i, found, an, onion, ., i, didnã, , â, , t, buy, it, but, it, was, a, cool, sighting, ., #coronavirus, #quarantinelife]  \n",
              "6341                                                                                                                                                                                 [he, told, wealthy, friends, ., then, cashed, out, a, cool, $, 1.4, m, in, stock, ., then, voted, against, the, covid, -, 19, relief, bill, ., he, needs, to, go, https://t.co/kyolbg3ycv]  "
            ],
            "text/html": [
              "\n",
              "  <div id=\"df-c473a51d-b17b-4348-a8b0-0153773e7a73\" class=\"colab-df-container\">\n",
              "    <div>\n",
              "<style scoped>\n",
              "    .dataframe tbody tr th:only-of-type {\n",
              "        vertical-align: middle;\n",
              "    }\n",
              "\n",
              "    .dataframe tbody tr th {\n",
              "        vertical-align: top;\n",
              "    }\n",
              "\n",
              "    .dataframe thead th {\n",
              "        text-align: right;\n",
              "    }\n",
              "</style>\n",
              "<table border=\"1\" class=\"dataframe\">\n",
              "  <thead>\n",
              "    <tr style=\"text-align: right;\">\n",
              "      <th></th>\n",
              "      <th>UserName</th>\n",
              "      <th>ScreenName</th>\n",
              "      <th>Location</th>\n",
              "      <th>TweetAt</th>\n",
              "      <th>OriginalTweet</th>\n",
              "      <th>Sentiment</th>\n",
              "      <th>Tokenized</th>\n",
              "    </tr>\n",
              "  </thead>\n",
              "  <tbody>\n",
              "    <tr>\n",
              "      <th>11966</th>\n",
              "      <td>18316</td>\n",
              "      <td>63268</td>\n",
              "      <td>Unknown</td>\n",
              "      <td>21-03-2020</td>\n",
              "      <td>I said thank you to grocery store clerks before it was cool ?????\\r\\r\\n#Covid_19</td>\n",
              "      <td>1</td>\n",
              "      <td>[i, said, thank, you, to, grocery, store, clerks, before, it, was, cool, ?, ?, ?, #covid_19]</td>\n",
              "    </tr>\n",
              "    <tr>\n",
              "      <th>5973</th>\n",
              "      <td>11052</td>\n",
              "      <td>56004</td>\n",
              "      <td>Brooklyn, NY</td>\n",
              "      <td>19-03-2020</td>\n",
              "      <td>This was a tough one to write given the #pandemic weÃÂre currently facing. Though as a #marketing nerd, there are super cool insights to take in given the shifts the #coronavirus is having on consumer behavior and media consumption https://t.co/mbpKHHJ3os</td>\n",
              "      <td>1</td>\n",
              "      <td>[this, was, a, tough, one, to, write, given, the, #pandemic, weã, , â, , re, currently, facing, ., though, as, a, #marketing, nerd, ,, there, are, super, cool, insights, to, take, in, given, the, shifts, the, #coronavirus, is, having, on, consumer, behavior, and, media, consumption, https://t.co/mbpkhhj3os]</td>\n",
              "    </tr>\n",
              "    <tr>\n",
              "      <th>7138</th>\n",
              "      <td>12468</td>\n",
              "      <td>57420</td>\n",
              "      <td>Earth</td>\n",
              "      <td>20-03-2020</td>\n",
              "      <td>@DrSundara3 Most probably in cool air conditioned environment. Follow the equator.\\r\\r\\nhttps://t.co/zu2fCHMEyn If so even icu could be a conducive environment and the only solution is alcohol sprays. Supply large quantities to every street for decontaminati</td>\n",
              "      <td>1</td>\n",
              "      <td>[@drsundara3, most, probably, in, cool, air, conditioned, environment, ., follow, the, equator, ., https://t.co/zu2fchmeyn, if, so, even, icu, could, be, a, conducive, environment, and, the, only, solution, is, alcohol, sprays, ., supply, large, quantities, to, every, street, for, decontaminati]</td>\n",
              "    </tr>\n",
              "    <tr>\n",
              "      <th>30611</th>\n",
              "      <td>41445</td>\n",
              "      <td>86397</td>\n",
              "      <td>Yorkshire, UK; Pasifika; et al</td>\n",
              "      <td>10-04-2020</td>\n",
              "      <td>@nicolasnicola22 @ChunhuaMs @Aussieneets @RussellMoxham @debbie_spirit @griffjane @orangulandtrust @orangutans @WildlingRocks @Ness4612R @samcoyi @DrBirute @coolrunning2009 @BlueSeas111 @RedFoxGIS @EmilyLe89720714 @orangutan2 @RedOrangutangen @ForestPeopl</td>\n",
              "      <td>1</td>\n",
              "      <td>[@nicolasnicola22, @chunhuams, @aussieneets, @russellmoxham, @debbie_spirit, @griffjane, @orangulandtrust, @orangutans, @wildlingrocks, @ness4612r, @samcoyi, @drbirute, @coolrunning2009, @blueseas111, @redfoxgis, @emilyle89720714, @orangutan2, @redorangutangen, @forestpeopl]</td>\n",
              "    </tr>\n",
              "    <tr>\n",
              "      <th>22029</th>\n",
              "      <td>30695</td>\n",
              "      <td>75647</td>\n",
              "      <td>Mumbai</td>\n",
              "      <td>02-04-2020</td>\n",
              "      <td>#NewsUpdate | Australian #home prices extended gains in March, although conditions are expected to cool as #coronavirus pandemic causes widespread economic disruption and hits household confidence\\r\\r\\n\\r\\r\\n#australia #realestate #property #RealEstateNews #realty\\r\\r\\nhttps://t.co/kZrBLP7o7W</td>\n",
              "      <td>1</td>\n",
              "      <td>[#newsupdate, |, australian, #home, prices, extended, gains, in, march, ,, although, conditions, are, expected, to, cool, as, #coronavirus, pandemic, causes, widespread, economic, disruption, and, hits, household, confidence, #australia, #realestate, #property, #realestatenews, #realty, https://t.co/kzrblp7o7w]</td>\n",
              "    </tr>\n",
              "    <tr>\n",
              "      <th>18398</th>\n",
              "      <td>26181</td>\n",
              "      <td>71133</td>\n",
              "      <td>Long Beach, CA</td>\n",
              "      <td>25-03-2020</td>\n",
              "      <td>A cool site that shows consumer behavior trends since COVID-19 https://t.co/7YuAhgRxz0</td>\n",
              "      <td>1</td>\n",
              "      <td>[a, cool, site, that, shows, consumer, behavior, trends, since, covid, -, 19, https://t.co/7yuahgrxz0]</td>\n",
              "    </tr>\n",
              "    <tr>\n",
              "      <th>29239</th>\n",
              "      <td>39679</td>\n",
              "      <td>84631</td>\n",
              "      <td>Unknown</td>\n",
              "      <td>09-04-2020</td>\n",
              "      <td>Very cool to see the Muddy River Distillery manufacturing hand sanitizer for first responders I am thankful for the many ways the community is supporting one another in our fight against the</td>\n",
              "      <td>1</td>\n",
              "      <td>[very, cool, to, see, the, muddy, river, distillery, manufacturing, hand, sanitizer, for, first, responders, i, am, thankful, for, the, many, ways, the, community, is, supporting, one, another, in, our, fight, against, the]</td>\n",
              "    </tr>\n",
              "    <tr>\n",
              "      <th>22101</th>\n",
              "      <td>30793</td>\n",
              "      <td>75745</td>\n",
              "      <td>Bad, Wildbad</td>\n",
              "      <td>02-04-2020</td>\n",
              "      <td>The little neighbourhood I live in is culturally vibrant - just dense with cool shops, markets, and restaurants. A lot of them are closed now and I wonder what percentage will open post #coronavirus.\\r\\r\\n\\r\\r\\nTruly regret just going to my closest Starbucks and supermarket all the time.</td>\n",
              "      <td>1</td>\n",
              "      <td>[the, little, neighbourhood, i, live, in, is, culturally, vibrant, -, just, dense, with, cool, shops, ,, markets, ,, and, restaurants, ., a, lot, of, them, are, closed, now, and, i, wonder, what, percentage, will, open, post, #coronavirus, ., truly, regret, just, going, to, my, closest, starbucks, and, supermarket, all, the, time, .]</td>\n",
              "    </tr>\n",
              "    <tr>\n",
              "      <th>26321</th>\n",
              "      <td>36044</td>\n",
              "      <td>80996</td>\n",
              "      <td>Unknown</td>\n",
              "      <td>07-04-2020</td>\n",
              "      <td>Anyone else feel like the grocery store is the new cool hangout?  ItÃÂs always so busy!  #StayAtHomeAndStaySafe #StayHomeForNevada #SocialDistance #socialdistancing</td>\n",
              "      <td>1</td>\n",
              "      <td>[anyone, else, feel, like, the, grocery, store, is, the, new, cool, hangout, ?, itã, , â, , s, always, so, busy, !, #stayathomeandstaysafe, #stayhomefornevada, #socialdistance, #socialdistancing]</td>\n",
              "    </tr>\n",
              "    <tr>\n",
              "      <th>12531</th>\n",
              "      <td>18992</td>\n",
              "      <td>63944</td>\n",
              "      <td>London/Sweden/Istanbul</td>\n",
              "      <td>22-03-2020</td>\n",
              "      <td>A big shout out to all the moms like mine who were carrying hand sanitizer in their purses and using tissues to open doors in public places waaaaay before made it cool</td>\n",
              "      <td>1</td>\n",
              "      <td>[a, big, shout, out, to, all, the, moms, like, mine, who, were, carrying, hand, sanitizer, in, their, purses, and, using, tissues, to, open, doors, in, public, places, waaaaay, before, made, it, cool]</td>\n",
              "    </tr>\n",
              "    <tr>\n",
              "      <th>21821</th>\n",
              "      <td>30434</td>\n",
              "      <td>75386</td>\n",
              "      <td>Milton Keynes, England</td>\n",
              "      <td>02-04-2020</td>\n",
              "      <td>Supermarkets are keeping cool and keeping us fed despite the massive pressure they've faced over the past few weeks due to #coronavirus- Our CEO, Frank Jones, explains how #RetailTech is driving their resilience...\\r\\r\\n\\r\\r\\nhttps://t.co/3dsf1pAjdK</td>\n",
              "      <td>1</td>\n",
              "      <td>[supermarkets, are, keeping, cool, and, keeping, us, fed, despite, the, massive, pressure, they've, faced, over, the, past, few, weeks, due, to, #coronavirus, -, our, ceo, ,, frank, jones, ,, explains, how, #retailtech, is, driving, their, resilience, ..., https://t.co/3dsf1pajdk]</td>\n",
              "    </tr>\n",
              "    <tr>\n",
              "      <th>18953</th>\n",
              "      <td>26873</td>\n",
              "      <td>71825</td>\n",
              "      <td>Nigeria</td>\n",
              "      <td>25-03-2020</td>\n",
              "      <td>Covid - 19 has very similar symptoms with everyday illnesses like flu, cold and allergies. \\r\\r\\n\\r\\r\\nBE AWARE, BE CAREFUL\\r\\r\\n\\r\\r\\nYankistore is still in the business of bringing you cool products at great prices.\\r\\r\\n\\r\\r\\n#stayathomeÃÂ https://t.co/hEtypvctbU</td>\n",
              "      <td>1</td>\n",
              "      <td>[covid, -, 19, has, very, similar, symptoms, with, everyday, illnesses, like, flu, ,, cold, and, allergies, ., be, aware, ,, be, careful, yankistore, is, still, in, the, business, of, bringing, you, cool, products, at, great, prices, ., #stayathomeã, , â, https://t.co/hetypvctbu]</td>\n",
              "    </tr>\n",
              "    <tr>\n",
              "      <th>11560</th>\n",
              "      <td>17818</td>\n",
              "      <td>62770</td>\n",
              "      <td>London / Prague / Berlin</td>\n",
              "      <td>21-03-2020</td>\n",
              "      <td>Some cool numbers from #Yelp - a little bit of science from app usage...who goes up and who goes down in #coronavirus #covid19 #economy impact report -&amp;gt; #pizzerias YES! #fastfood ok! #grocery YES! https://t.co/z5EAAvsvrE https://t.co/pM2uSfEiFn</td>\n",
              "      <td>1</td>\n",
              "      <td>[some, cool, numbers, from, #yelp, -, a, little, bit, of, science, from, app, usage, ..., who, goes, up, and, who, goes, down, in, #coronavirus, #covid19, #economy, impact, report, -&gt;, #pizzerias, yes, !, #fastfood, ok, !, #grocery, yes, !, https://t.co/z5eaavsvre, https://t.co/pm2usfeifn]</td>\n",
              "    </tr>\n",
              "    <tr>\n",
              "      <th>11051</th>\n",
              "      <td>17210</td>\n",
              "      <td>62162</td>\n",
              "      <td>South Carolina, USA</td>\n",
              "      <td>21-03-2020</td>\n",
              "      <td>Day 3 of 35 in a splint: I got treats, tweets, toys, plenty of food. A hooman on demand cos of #Covid_19. How\\r\\r\\ncool is that? A pug for company in the event the humans leave for errands... https://t.co/9IUUGIWoX1</td>\n",
              "      <td>1</td>\n",
              "      <td>[day, 3, of, 35, in, a, splint, :, i, got, treats, ,, tweets, ,, toys, ,, plenty, of, food, ., a, hooman, on, demand, cos, of, #covid_19, ., how, cool, is, that, ?, a, pug, for, company, in, the, event, the, humans, leave, for, errands, ..., https://t.co/9iuugiwox1]</td>\n",
              "    </tr>\n",
              "    <tr>\n",
              "      <th>20464</th>\n",
              "      <td>28769</td>\n",
              "      <td>73721</td>\n",
              "      <td>Abuja</td>\n",
              "      <td>28-03-2020</td>\n",
              "      <td>My own little way of saying this \"too shall pass\".. Please stay safe \\r\\r\\n#coronavirus\\r\\r\\n#covid19\\r\\r\\n#staycoronafree\\r\\r\\n#sanitizer #sanitize #quarantine #washyourhands\\r\\r\\n? @creative_papilo\\r\\r\\n\\r\\r\\nCc @sophiecoolfm @daisyjustcool https://t.co/n0U6ezgMQ2</td>\n",
              "      <td>1</td>\n",
              "      <td>[my, own, little, way, of, saying, this, \", too, shall, pass, \", .., please, stay, safe, #coronavirus, #covid19, #staycoronafree, #sanitizer, #sanitize, #quarantine, #washyourhands, ?, @creative_papilo, cc, @sophiecoolfm, @daisyjustcool, https://t.co/n0u6ezgmq2]</td>\n",
              "    </tr>\n",
              "    <tr>\n",
              "      <th>29873</th>\n",
              "      <td>40481</td>\n",
              "      <td>85433</td>\n",
              "      <td>Unknown</td>\n",
              "      <td>09-04-2020</td>\n",
              "      <td>@trump_girl45 @Isthiscool_ @GovernorTomWolf A lot of people DO NOT know what to do! Going to the grocery store is ridiculous as people DO NOT know how to keep their distance! If you canÃÂt be trusted to go to the grocery store properly, how do you open up</td>\n",
              "      <td>1</td>\n",
              "      <td>[@trump_girl45, @isthiscool_, @governortomwolf, a, lot, of, people, do, not, know, what, to, do, !, going, to, the, grocery, store, is, ridiculous, as, people, do, not, know, how, to, keep, their, distance, !, if, you, canã, , â, , t, be, trusted, to, go, to, the, grocery, store, properly, ,, how, do, you, open, up]</td>\n",
              "    </tr>\n",
              "    <tr>\n",
              "      <th>26201</th>\n",
              "      <td>35898</td>\n",
              "      <td>80850</td>\n",
              "      <td>Owensboro, KY</td>\n",
              "      <td>07-04-2020</td>\n",
              "      <td>Local bourbon distillery is providing us with hand sanitizer. So cool. #coronavirus https://t.co/y6JqXoJXMl</td>\n",
              "      <td>1</td>\n",
              "      <td>[local, bourbon, distillery, is, providing, us, with, hand, sanitizer, ., so, cool, ., #coronavirus, https://t.co/y6jqxojxml]</td>\n",
              "    </tr>\n",
              "    <tr>\n",
              "      <th>3615</th>\n",
              "      <td>8194</td>\n",
              "      <td>53146</td>\n",
              "      <td>Switzerland</td>\n",
              "      <td>18-03-2020</td>\n",
              "      <td>Just back from the supermarket here in Switzerland.\\r\\r\\n\\r\\r\\nWe're on day 2 of a country-wide lock down and it looks like this.\\r\\r\\n\\r\\r\\nEveryone seems to be keeping their cool and doing what they need to do to get through this thing. https://t.co/egE6VGFcpL</td>\n",
              "      <td>1</td>\n",
              "      <td>[just, back, from, the, supermarket, here, in, switzerland, ., we're, on, day, 2, of, a, country-wide, lock, down, and, it, looks, like, this, ., everyone, seems, to, be, keeping, their, cool, and, doing, what, they, need, to, do, to, get, through, this, thing, ., https://t.co/ege6vgfcpl]</td>\n",
              "    </tr>\n",
              "    <tr>\n",
              "      <th>3054</th>\n",
              "      <td>7497</td>\n",
              "      <td>52449</td>\n",
              "      <td>USA</td>\n",
              "      <td>18-03-2020</td>\n",
              "      <td>If youÃÂve walked through a grocery store in the past week youÃÂve seen emptied shelves, coolers and meat counters. As Americans prepare for quarantine, beef, pork, poultry and shelf-stable items are among the first to go, following toilet paper, of course.\\r\\r\\n\\r\\r\\nhttps://t.co/DDqJXujOGO</td>\n",
              "      <td>1</td>\n",
              "      <td>[if, youã, , â, , ve, walked, through, a, grocery, store, in, the, past, week, youã, , â, , ve, seen, emptied, shelves, ,, coolers, and, meat, counters, ., as, americans, prepare, for, quarantine, ,, beef, ,, pork, ,, poultry, and, shelf-stable, items, are, among, the, first, to, go, ,, following, toilet, paper, ,, of, course, ., https://t.co/ddqjxujogo]</td>\n",
              "    </tr>\n",
              "    <tr>\n",
              "      <th>17338</th>\n",
              "      <td>24893</td>\n",
              "      <td>69845</td>\n",
              "      <td>Toronto Ontario</td>\n",
              "      <td>25-03-2020</td>\n",
              "      <td>Toronto s housing market has been very competitive the past few weeks but I m starting to see the momentum cool down this week</td>\n",
              "      <td>1</td>\n",
              "      <td>[toronto, s, housing, market, has, been, very, competitive, the, past, few, weeks, but, i, m, starting, to, see, the, momentum, cool, down, this, week]</td>\n",
              "    </tr>\n",
              "    <tr>\n",
              "      <th>24706</th>\n",
              "      <td>34035</td>\n",
              "      <td>78987</td>\n",
              "      <td>Unknown</td>\n",
              "      <td>06-04-2020</td>\n",
              "      <td>When you go to the supermarket- please be mindful. If there are too many people down one aisle, go back when it is quieter! Walking past the staff stacking shelves as if they don't exist. This is not cool, please just think that little bit more. #keyworkers  #SocialDistancing</td>\n",
              "      <td>1</td>\n",
              "      <td>[when, you, go, to, the, supermarket, -, please, be, mindful, ., if, there, are, too, many, people, down, one, aisle, ,, go, back, when, it, is, quieter, !, walking, past, the, staff, stacking, shelves, as, if, they, don't, exist, ., this, is, not, cool, ,, please, just, think, that, little, bit, more, ., #keyworkers, #socialdistancing]</td>\n",
              "    </tr>\n",
              "    <tr>\n",
              "      <th>18653</th>\n",
              "      <td>26506</td>\n",
              "      <td>71458</td>\n",
              "      <td>Victoria, British Columbia</td>\n",
              "      <td>25-03-2020</td>\n",
              "      <td>Lineup to get in to the grocery store. They were only letting us in 1 at a time and only when someone else had left, and we had to stand on the lines 6 feet apart. It was like a COVID-19 Maxwell's Demon. It was pretty cool. https://t.co/wk5a9ZyRrX</td>\n",
              "      <td>1</td>\n",
              "      <td>[lineup, to, get, in, to, the, grocery, store, ., they, were, only, letting, us, in, 1, at, a, time, and, only, when, someone, else, had, left, ,, and, we, had, to, stand, on, the, lines, 6, feet, apart, ., it, was, like, a, covid, -, 19, maxwell's, demon, ., it, was, pretty, cool, ., https://t.co/wk5a9zyrrx]</td>\n",
              "    </tr>\n",
              "    <tr>\n",
              "      <th>14393</th>\n",
              "      <td>21280</td>\n",
              "      <td>66232</td>\n",
              "      <td>Washington, DC</td>\n",
              "      <td>23-03-2020</td>\n",
              "      <td>Stay safe and stay away. To beat this, we have to do this together. \\r\\r\\nIf you are doing online shopping, check us out at https://t.co/6xCWpOFiSg and learn about our groundbreaking suits\\r\\r\\n#coolactionsuit #CoronavirusOutbreak #SocialDistancing #coronavirus #PreventionOverPanic #SUITS https://t.co/X8olt2Ekle</td>\n",
              "      <td>1</td>\n",
              "      <td>[stay, safe, and, stay, away, ., to, beat, this, ,, we, have, to, do, this, together, ., if, you, are, doing, online, shopping, ,, check, us, out, at, https://t.co/6xcwpofisg, and, learn, about, our, groundbreaking, suits, #coolactionsuit, #coronavirusoutbreak, #socialdistancing, #coronavirus, #preventionoverpanic, #suits, https://t.co/x8olt2ekle]</td>\n",
              "    </tr>\n",
              "    <tr>\n",
              "      <th>10751</th>\n",
              "      <td>16845</td>\n",
              "      <td>61797</td>\n",
              "      <td>Unknown</td>\n",
              "      <td>21-03-2020</td>\n",
              "      <td>@amazon @AmazonKindle just wanted to say that I think it would be really cool if you lowered prices on your kindle devices while so many people are quarantined. #amazon #kindle #Covid_19 #StayAtHome #QuaratineLife</td>\n",
              "      <td>1</td>\n",
              "      <td>[@amazon, @amazonkindle, just, wanted, to, say, that, i, think, it, would, be, really, cool, if, you, lowered, prices, on, your, kindle, devices, while, so, many, people, are, quarantined, ., #amazon, #kindle, #covid_19, #stayathome, #quaratinelife]</td>\n",
              "    </tr>\n",
              "    <tr>\n",
              "      <th>5803</th>\n",
              "      <td>10850</td>\n",
              "      <td>55802</td>\n",
              "      <td>NJ</td>\n",
              "      <td>19-03-2020</td>\n",
              "      <td>Pretty lucky the transition to WFH was pretty smooth for me, it's not for everyone though so it's cool to see how other businesses are helping their teams | @crossriverbank invests in employee, consumer initiatives amid #COVID19  https://t.co/sKzDrWGV1G #NJBanks</td>\n",
              "      <td>1</td>\n",
              "      <td>[pretty, lucky, the, transition, to, wfh, was, pretty, smooth, for, me, ,, it's, not, for, everyone, though, so, it's, cool, to, see, how, other, businesses, are, helping, their, teams, |, @crossriverbank, invests, in, employee, ,, consumer, initiatives, amid, #covid19, https://t.co/skzdrwgv1g, #njbanks]</td>\n",
              "    </tr>\n",
              "    <tr>\n",
              "      <th>5336</th>\n",
              "      <td>10287</td>\n",
              "      <td>55239</td>\n",
              "      <td>Unknown</td>\n",
              "      <td>19-03-2020</td>\n",
              "      <td>I know they donÃÂt have time for it - but it would be cool to see Doctors, Nurses, Grocery Store Workers, and all of the people helping everyone get through this have the pre game introductions and walk out music that athletes get. RT if you agree! #realheros #coronavirus #corona</td>\n",
              "      <td>1</td>\n",
              "      <td>[i, know, they, donã, , â, , t, have, time, for, it, -, but, it, would, be, cool, to, see, doctors, ,, nurses, ,, grocery, store, workers, ,, and, all, of, the, people, helping, everyone, get, through, this, have, the, pre, game, introductions, and, walk, out, music, that, athletes, get, ., rt, if, you, agree, !, #realheros, #coronavirus, #corona]</td>\n",
              "    </tr>\n",
              "    <tr>\n",
              "      <th>27083</th>\n",
              "      <td>37010</td>\n",
              "      <td>81962</td>\n",
              "      <td>Ocean City, MD</td>\n",
              "      <td>07-04-2020</td>\n",
              "      <td>@people I think it would be so cool if your next issue didnÃÂt contain a single story or picture of any celebrities but only of real nurses, doctors, patients, truckers, grocery store and pharmacy workers, essential personnel. #TuesdayThoughts #coronaviru</td>\n",
              "      <td>1</td>\n",
              "      <td>[@people, i, think, it, would, be, so, cool, if, your, next, issue, didnã, , â, , t, contain, a, single, story, or, picture, of, any, celebrities, but, only, of, real, nurses, ,, doctors, ,, patients, ,, truckers, ,, grocery, store, and, pharmacy, workers, ,, essential, personnel, ., #tuesdaythoughts, #coronaviru]</td>\n",
              "    </tr>\n",
              "    <tr>\n",
              "      <th>5959</th>\n",
              "      <td>11034</td>\n",
              "      <td>55986</td>\n",
              "      <td>California</td>\n",
              "      <td>19-03-2020</td>\n",
              "      <td>Going to the grocery store these days is becoming increasingly exciting... today I found an onion. I didnÃÂt buy it but it was a cool sighting. #coronavirus #quarantinelife</td>\n",
              "      <td>1</td>\n",
              "      <td>[going, to, the, grocery, store, these, days, is, becoming, increasingly, exciting, ..., today, i, found, an, onion, ., i, didnã, , â, , t, buy, it, but, it, was, a, cool, sighting, ., #coronavirus, #quarantinelife]</td>\n",
              "    </tr>\n",
              "    <tr>\n",
              "      <th>6341</th>\n",
              "      <td>11497</td>\n",
              "      <td>56449</td>\n",
              "      <td>California, USA</td>\n",
              "      <td>19-03-2020</td>\n",
              "      <td>He told wealthy friends. Then cashed out a cool $1.4m in stock. Then voted AGAINST the covid-19 relief bill. He needs to go https://t.co/kYolBg3ycv</td>\n",
              "      <td>1</td>\n",
              "      <td>[he, told, wealthy, friends, ., then, cashed, out, a, cool, $, 1.4, m, in, stock, ., then, voted, against, the, covid, -, 19, relief, bill, ., he, needs, to, go, https://t.co/kyolbg3ycv]</td>\n",
              "    </tr>\n",
              "  </tbody>\n",
              "</table>\n",
              "</div>\n",
              "    <div class=\"colab-df-buttons\">\n",
              "\n",
              "  <div class=\"colab-df-container\">\n",
              "    <button class=\"colab-df-convert\" onclick=\"convertToInteractive('df-c473a51d-b17b-4348-a8b0-0153773e7a73')\"\n",
              "            title=\"Convert this dataframe to an interactive table.\"\n",
              "            style=\"display:none;\">\n",
              "\n",
              "  <svg xmlns=\"http://www.w3.org/2000/svg\" height=\"24px\" viewBox=\"0 -960 960 960\">\n",
              "    <path d=\"M120-120v-720h720v720H120Zm60-500h600v-160H180v160Zm220 220h160v-160H400v160Zm0 220h160v-160H400v160ZM180-400h160v-160H180v160Zm440 0h160v-160H620v160ZM180-180h160v-160H180v160Zm440 0h160v-160H620v160Z\"/>\n",
              "  </svg>\n",
              "    </button>\n",
              "\n",
              "  <style>\n",
              "    .colab-df-container {\n",
              "      display:flex;\n",
              "      gap: 12px;\n",
              "    }\n",
              "\n",
              "    .colab-df-convert {\n",
              "      background-color: #E8F0FE;\n",
              "      border: none;\n",
              "      border-radius: 50%;\n",
              "      cursor: pointer;\n",
              "      display: none;\n",
              "      fill: #1967D2;\n",
              "      height: 32px;\n",
              "      padding: 0 0 0 0;\n",
              "      width: 32px;\n",
              "    }\n",
              "\n",
              "    .colab-df-convert:hover {\n",
              "      background-color: #E2EBFA;\n",
              "      box-shadow: 0px 1px 2px rgba(60, 64, 67, 0.3), 0px 1px 3px 1px rgba(60, 64, 67, 0.15);\n",
              "      fill: #174EA6;\n",
              "    }\n",
              "\n",
              "    .colab-df-buttons div {\n",
              "      margin-bottom: 4px;\n",
              "    }\n",
              "\n",
              "    [theme=dark] .colab-df-convert {\n",
              "      background-color: #3B4455;\n",
              "      fill: #D2E3FC;\n",
              "    }\n",
              "\n",
              "    [theme=dark] .colab-df-convert:hover {\n",
              "      background-color: #434B5C;\n",
              "      box-shadow: 0px 1px 3px 1px rgba(0, 0, 0, 0.15);\n",
              "      filter: drop-shadow(0px 1px 2px rgba(0, 0, 0, 0.3));\n",
              "      fill: #FFFFFF;\n",
              "    }\n",
              "  </style>\n",
              "\n",
              "    <script>\n",
              "      const buttonEl =\n",
              "        document.querySelector('#df-c473a51d-b17b-4348-a8b0-0153773e7a73 button.colab-df-convert');\n",
              "      buttonEl.style.display =\n",
              "        google.colab.kernel.accessAllowed ? 'block' : 'none';\n",
              "\n",
              "      async function convertToInteractive(key) {\n",
              "        const element = document.querySelector('#df-c473a51d-b17b-4348-a8b0-0153773e7a73');\n",
              "        const dataTable =\n",
              "          await google.colab.kernel.invokeFunction('convertToInteractive',\n",
              "                                                    [key], {});\n",
              "        if (!dataTable) return;\n",
              "\n",
              "        const docLinkHtml = 'Like what you see? Visit the ' +\n",
              "          '<a target=\"_blank\" href=https://colab.research.google.com/notebooks/data_table.ipynb>data table notebook</a>'\n",
              "          + ' to learn more about interactive tables.';\n",
              "        element.innerHTML = '';\n",
              "        dataTable['output_type'] = 'display_data';\n",
              "        await google.colab.output.renderOutput(dataTable, element);\n",
              "        const docLink = document.createElement('div');\n",
              "        docLink.innerHTML = docLinkHtml;\n",
              "        element.appendChild(docLink);\n",
              "      }\n",
              "    </script>\n",
              "  </div>\n",
              "\n",
              "\n",
              "<div id=\"df-593ecef0-0419-4fff-b2f9-666c33e4b04f\">\n",
              "  <button class=\"colab-df-quickchart\" onclick=\"quickchart('df-593ecef0-0419-4fff-b2f9-666c33e4b04f')\"\n",
              "            title=\"Suggest charts\"\n",
              "            style=\"display:none;\">\n",
              "\n",
              "<svg xmlns=\"http://www.w3.org/2000/svg\" height=\"24px\"viewBox=\"0 0 24 24\"\n",
              "     width=\"24px\">\n",
              "    <g>\n",
              "        <path d=\"M19 3H5c-1.1 0-2 .9-2 2v14c0 1.1.9 2 2 2h14c1.1 0 2-.9 2-2V5c0-1.1-.9-2-2-2zM9 17H7v-7h2v7zm4 0h-2V7h2v10zm4 0h-2v-4h2v4z\"/>\n",
              "    </g>\n",
              "</svg>\n",
              "  </button>\n",
              "\n",
              "<style>\n",
              "  .colab-df-quickchart {\n",
              "      --bg-color: #E8F0FE;\n",
              "      --fill-color: #1967D2;\n",
              "      --hover-bg-color: #E2EBFA;\n",
              "      --hover-fill-color: #174EA6;\n",
              "      --disabled-fill-color: #AAA;\n",
              "      --disabled-bg-color: #DDD;\n",
              "  }\n",
              "\n",
              "  [theme=dark] .colab-df-quickchart {\n",
              "      --bg-color: #3B4455;\n",
              "      --fill-color: #D2E3FC;\n",
              "      --hover-bg-color: #434B5C;\n",
              "      --hover-fill-color: #FFFFFF;\n",
              "      --disabled-bg-color: #3B4455;\n",
              "      --disabled-fill-color: #666;\n",
              "  }\n",
              "\n",
              "  .colab-df-quickchart {\n",
              "    background-color: var(--bg-color);\n",
              "    border: none;\n",
              "    border-radius: 50%;\n",
              "    cursor: pointer;\n",
              "    display: none;\n",
              "    fill: var(--fill-color);\n",
              "    height: 32px;\n",
              "    padding: 0;\n",
              "    width: 32px;\n",
              "  }\n",
              "\n",
              "  .colab-df-quickchart:hover {\n",
              "    background-color: var(--hover-bg-color);\n",
              "    box-shadow: 0 1px 2px rgba(60, 64, 67, 0.3), 0 1px 3px 1px rgba(60, 64, 67, 0.15);\n",
              "    fill: var(--button-hover-fill-color);\n",
              "  }\n",
              "\n",
              "  .colab-df-quickchart-complete:disabled,\n",
              "  .colab-df-quickchart-complete:disabled:hover {\n",
              "    background-color: var(--disabled-bg-color);\n",
              "    fill: var(--disabled-fill-color);\n",
              "    box-shadow: none;\n",
              "  }\n",
              "\n",
              "  .colab-df-spinner {\n",
              "    border: 2px solid var(--fill-color);\n",
              "    border-color: transparent;\n",
              "    border-bottom-color: var(--fill-color);\n",
              "    animation:\n",
              "      spin 1s steps(1) infinite;\n",
              "  }\n",
              "\n",
              "  @keyframes spin {\n",
              "    0% {\n",
              "      border-color: transparent;\n",
              "      border-bottom-color: var(--fill-color);\n",
              "      border-left-color: var(--fill-color);\n",
              "    }\n",
              "    20% {\n",
              "      border-color: transparent;\n",
              "      border-left-color: var(--fill-color);\n",
              "      border-top-color: var(--fill-color);\n",
              "    }\n",
              "    30% {\n",
              "      border-color: transparent;\n",
              "      border-left-color: var(--fill-color);\n",
              "      border-top-color: var(--fill-color);\n",
              "      border-right-color: var(--fill-color);\n",
              "    }\n",
              "    40% {\n",
              "      border-color: transparent;\n",
              "      border-right-color: var(--fill-color);\n",
              "      border-top-color: var(--fill-color);\n",
              "    }\n",
              "    60% {\n",
              "      border-color: transparent;\n",
              "      border-right-color: var(--fill-color);\n",
              "    }\n",
              "    80% {\n",
              "      border-color: transparent;\n",
              "      border-right-color: var(--fill-color);\n",
              "      border-bottom-color: var(--fill-color);\n",
              "    }\n",
              "    90% {\n",
              "      border-color: transparent;\n",
              "      border-bottom-color: var(--fill-color);\n",
              "    }\n",
              "  }\n",
              "</style>\n",
              "\n",
              "  <script>\n",
              "    async function quickchart(key) {\n",
              "      const quickchartButtonEl =\n",
              "        document.querySelector('#' + key + ' button');\n",
              "      quickchartButtonEl.disabled = true;  // To prevent multiple clicks.\n",
              "      quickchartButtonEl.classList.add('colab-df-spinner');\n",
              "      try {\n",
              "        const charts = await google.colab.kernel.invokeFunction(\n",
              "            'suggestCharts', [key], {});\n",
              "      } catch (error) {\n",
              "        console.error('Error during call to suggestCharts:', error);\n",
              "      }\n",
              "      quickchartButtonEl.classList.remove('colab-df-spinner');\n",
              "      quickchartButtonEl.classList.add('colab-df-quickchart-complete');\n",
              "    }\n",
              "    (() => {\n",
              "      let quickchartButtonEl =\n",
              "        document.querySelector('#df-593ecef0-0419-4fff-b2f9-666c33e4b04f button');\n",
              "      quickchartButtonEl.style.display =\n",
              "        google.colab.kernel.accessAllowed ? 'block' : 'none';\n",
              "    })();\n",
              "  </script>\n",
              "</div>\n",
              "    </div>\n",
              "  </div>\n"
            ],
            "application/vnd.google.colaboratory.intrinsic+json": {
              "type": "dataframe",
              "repr_error": "0"
            }
          },
          "metadata": {},
          "execution_count": 81
        }
      ],
      "source": [
        "X_train[X_train['OriginalTweet'].apply(lambda x: 'cool' in x) & (X_train['Sentiment'] == 1)]"
      ]
    },
    {
      "cell_type": "code",
      "execution_count": 82,
      "metadata": {
        "colab": {
          "base_uri": "https://localhost:8080/"
        },
        "id": "jSjbKPCWk87K",
        "outputId": "9d63b09b-880a-4022-f1ab-58439fda018e"
      },
      "outputs": [
        {
          "output_type": "stream",
          "name": "stdout",
          "text": [
            "Самый важный токен: cool\n",
            "Самый неважный токен: 19\n",
            "18398    A cool site that shows consumer behavior trends since COVID-19 https://t.co/7YuAhgRxz0\n",
            "Name: OriginalTweet, dtype: object\n"
          ]
        }
      ],
      "source": [
        "v = 71133\n",
        "row = X_train.query('ScreenName == @v')\n",
        "tweet_text = row['OriginalTweet']\n",
        "tweet_vector = tf.transform(tweet_text).toarray()\n",
        "max_index = tweet_vector.argmax()\n",
        "min_value = tweet_vector[tweet_vector > 0].min()\n",
        "min_index = np.where(tweet_vector == min_value)[1][0]\n",
        "tokens = tf.get_feature_names_out()\n",
        "most_important_token = tokens[max_index]\n",
        "least_important_token = tokens[min_index]\n",
        "print(f'Самый важный токен: {most_important_token}')\n",
        "print(f'Самый неважный токен: {least_important_token}')\n",
        "pd.set_option('display.max_colwidth', None)\n",
        "\n",
        "\n",
        "with pd.option_context('display.max_colwidth', None):\n",
        "    print(row['OriginalTweet'])"
      ]
    },
    {
      "cell_type": "markdown",
      "metadata": {
        "id": "JTv9ST2_U6NA"
      },
      "source": [
        "**Ответ:** # слово cool является в данном случае положительным прилагательным, что и помогает оценить этоот твит как положительный"
      ]
    },
    {
      "cell_type": "markdown",
      "metadata": {
        "id": "JVEuZm8BHms6"
      },
      "source": [
        "## Задание 4 Обучение первых моделей (1 балл)"
      ]
    },
    {
      "cell_type": "markdown",
      "metadata": {
        "id": "JADkO3sfXdOG"
      },
      "source": [
        "Примените оба векторайзера для получения матриц с признаками текстов.  Выделите целевую переменную."
      ]
    },
    {
      "cell_type": "code",
      "execution_count": 83,
      "metadata": {
        "id": "DguoiXhCX2oN"
      },
      "outputs": [],
      "source": [
        "\n",
        "cv = CountVectorizer(tokenizer=custom_tokenizer)\n",
        "tf = TfidfVectorizer(tokenizer=custom_tokenizer)\n",
        "texts_train = X_train['OriginalTweet']\n",
        "target_train = X_train['Sentiment']\n",
        "count_matrix_train = cv.fit_transform(texts_train)\n",
        "tfidf_matrix_train = tf.fit_transform(texts_train)\n",
        "\n",
        "texts_test = X_test['OriginalTweet']\n",
        "target_test = X_test['Sentiment']\n",
        "count_matrix_test = cv.transform(texts_test)\n",
        "tfidf_matrix_test = tf.transform(texts_test)"
      ]
    },
    {
      "cell_type": "markdown",
      "metadata": {
        "id": "_FX1KSOfYSx4"
      },
      "source": [
        "Обучите логистическую регрессию на векторах из обоих векторайзеров. Посчитайте долю правильных ответов на обучающих и тестовых данных. Какой векторайзер показал лучший результат? Что можно сказать о моделях?"
      ]
    },
    {
      "cell_type": "code",
      "execution_count": 84,
      "metadata": {
        "colab": {
          "base_uri": "https://localhost:8080/"
        },
        "id": "-Tb3eh8UXJ6v",
        "outputId": "cb9c2bbe-5924-4286-98cd-07bb0f5d90f1"
      },
      "outputs": [
        {
          "output_type": "stream",
          "name": "stdout",
          "text": [
            "CountVectorizer - Train Accuracy: 0.9845, Test Accuracy: 0.8675\n",
            "TfidfVectorizer - Train Accuracy: 0.9255, Test Accuracy: 0.8534\n"
          ]
        }
      ],
      "source": [
        "from sklearn.linear_model import LogisticRegression\n",
        "from sklearn.metrics import accuracy_score\n",
        "log_reg_cv = LogisticRegression()\n",
        "log_reg_cv.fit(count_matrix_train, target_train)\n",
        "train_preds_cv = log_reg_cv.predict(count_matrix_train)\n",
        "train_accuracy_cv = accuracy_score(target_train, train_preds_cv)\n",
        "test_preds_cv = log_reg_cv.predict(count_matrix_test)\n",
        "test_accuracy_cv = accuracy_score(target_test, test_preds_cv)\n",
        "\n",
        "\n",
        "log_reg_tf = LogisticRegression()\n",
        "log_reg_tf.fit(tfidf_matrix_train, target_train)\n",
        "train_preds_tf = log_reg_tf.predict(tfidf_matrix_train)\n",
        "train_accuracy_tf = accuracy_score(target_train, train_preds_tf)\n",
        "test_preds_tf = log_reg_tf.predict(tfidf_matrix_test)\n",
        "test_accuracy_tf = accuracy_score(target_test, test_preds_tf)\n",
        "\n",
        "print(f'CountVectorizer - Train Accuracy: {train_accuracy_cv:.4f}, Test Accuracy: {test_accuracy_cv:.4f}')\n",
        "print(f'TfidfVectorizer - Train Accuracy: {train_accuracy_tf:.4f}, Test Accuracy: {test_accuracy_tf:.4f}')\n"
      ]
    },
    {
      "cell_type": "markdown",
      "metadata": {
        "id": "8y_wO7rCmv7K"
      },
      "source": [
        "**Ответ:** # CountVectorizer дал несколько лучший результат, чем TfidfVectorizer. Однако разница в целом не сильно большая. Возможно CountVectorizer слегка переобучился тк разница с тестом 10%, у TfidfVectorizer эта разница меньше\n"
      ]
    },
    {
      "cell_type": "markdown",
      "metadata": {
        "id": "rSOR1i3mjrys"
      },
      "source": [
        "## Задание 5 Стемминг (0.5 балла)"
      ]
    },
    {
      "cell_type": "markdown",
      "metadata": {
        "id": "i6ONBWNPjuq-"
      },
      "source": [
        "Для уменьшения словаря можно использовать стемминг.\n",
        "\n",
        "Модифицируйте написанный токенайзер, добавив в него стемминг с использованием SnowballStemmer. Обучите Count- и Tfidf- векторайзеры. Как изменился размер словаря?"
      ]
    },
    {
      "cell_type": "code",
      "execution_count": 85,
      "metadata": {
        "id": "oVfA2-iMkQBb"
      },
      "outputs": [],
      "source": [
        "from nltk.stem.snowball import SnowballStemmer\n",
        "import re\n",
        "stemmer = SnowballStemmer(\"english\")\n",
        "\n",
        "def custom_stem_tokenizer(text):\n",
        "  tw = TweetTokenizer()\n",
        "  text = text.lower()\n",
        "  tokens = [token for token in tw.tokenize(text) if (token not in noise) and not(len(token) == 1 and ord(token) >= 128) and not(token.startswith('https://t.co')) ]\n",
        "  stemmed_tokens = [stemmer.stem(token) for token in tokens]\n",
        "  return stemmed_tokens"
      ]
    },
    {
      "cell_type": "code",
      "execution_count": 86,
      "metadata": {
        "colab": {
          "base_uri": "https://localhost:8080/"
        },
        "id": "9QmrjYtqnlPd",
        "outputId": "256a563c-99c0-4ddf-e853-b848c06d1dc4"
      },
      "outputs": [
        {
          "output_type": "execute_result",
          "data": {
            "text/plain": [
              "['sampl', 'text', '@sample_text', '#sampletext', 'ad', 'word', 'check', 'stem']"
            ]
          },
          "metadata": {},
          "execution_count": 86
        }
      ],
      "source": [
        "custom_stem_tokenizer('This is sample text!!!! @Sample_text I, \\x92\\x92 https://t.co/sample  #sampletext adding more words to check stemming')"
      ]
    },
    {
      "cell_type": "code",
      "execution_count": 87,
      "metadata": {
        "colab": {
          "base_uri": "https://localhost:8080/"
        },
        "id": "zAvUTmaplzOS",
        "outputId": "8f4600f8-c1dd-4d0a-9643-7ae6b0b8677e"
      },
      "outputs": [
        {
          "output_type": "stream",
          "name": "stdout",
          "text": [
            "Размер словаря CountVectorizer после стемминга: 36652\n"
          ]
        }
      ],
      "source": [
        "cv = CountVectorizer(tokenizer=custom_stem_tokenizer)\n",
        "tf = TfidfVectorizer(tokenizer=custom_stem_tokenizer)\n",
        "\n",
        "cv.fit(X_train['OriginalTweet'])\n",
        "tf.fit(X_train['OriginalTweet'])\n",
        "\n",
        "print(f'Размер словаря CountVectorizer после стемминга: {len(cv.vocabulary_)}')\n",
        "\n",
        "\n"
      ]
    },
    {
      "cell_type": "markdown",
      "metadata": {
        "id": "Oyzs5TaAoHP6"
      },
      "source": [
        "**Ответ** # словарь уменьшился примерно на 10 тысяч, что довольно хорошо сократило количество токенов"
      ]
    },
    {
      "cell_type": "markdown",
      "metadata": {
        "id": "1OkncHI8oRmd"
      },
      "source": [
        "Обучите логистическую регрессию с использованием обоих векторайзеров. Изменилось ли качество? Есть ли смысл применять стемминг?"
      ]
    },
    {
      "cell_type": "code",
      "execution_count": 88,
      "metadata": {
        "colab": {
          "base_uri": "https://localhost:8080/"
        },
        "id": "ykZJPphEoZ5W",
        "outputId": "51326326-4fb4-498c-b8f4-91c7e1671962"
      },
      "outputs": [
        {
          "output_type": "stream",
          "name": "stdout",
          "text": [
            "CountVectorizer - Train Accuracy: 0.9718, Test Accuracy: 0.8675\n",
            "TfidfVectorizer - Train Accuracy: 0.9159, Test Accuracy: 0.8561\n"
          ]
        }
      ],
      "source": [
        "cv = CountVectorizer(tokenizer=custom_stem_tokenizer)\n",
        "tf = TfidfVectorizer(tokenizer=custom_stem_tokenizer)\n",
        "texts_train = X_train['OriginalTweet']\n",
        "target_train = X_train['Sentiment']\n",
        "count_matrix_train = cv.fit_transform(texts_train)\n",
        "tfidf_matrix_train = tf.fit_transform(texts_train)\n",
        "\n",
        "texts_test = X_test['OriginalTweet']\n",
        "target_test = X_test['Sentiment']\n",
        "count_matrix_test = cv.transform(texts_test)\n",
        "tfidf_matrix_test = tf.transform(texts_test)\n",
        "\n",
        "log_reg_cv = LogisticRegression()\n",
        "log_reg_cv.fit(count_matrix_train, target_train)\n",
        "train_preds_cv = log_reg_cv.predict(count_matrix_train)\n",
        "train_accuracy_cv = accuracy_score(target_train, train_preds_cv)\n",
        "test_preds_cv = log_reg_cv.predict(count_matrix_test)\n",
        "test_accuracy_cv = accuracy_score(target_test, test_preds_cv)\n",
        "\n",
        "\n",
        "log_reg_tf = LogisticRegression()\n",
        "log_reg_tf.fit(tfidf_matrix_train, target_train)\n",
        "train_preds_tf = log_reg_tf.predict(tfidf_matrix_train)\n",
        "train_accuracy_tf = accuracy_score(target_train, train_preds_tf)\n",
        "test_preds_tf = log_reg_tf.predict(tfidf_matrix_test)\n",
        "test_accuracy_tf = accuracy_score(target_test, test_preds_tf)\n",
        "\n",
        "print(f'CountVectorizer - Train Accuracy: {train_accuracy_cv:.4f}, Test Accuracy: {test_accuracy_cv:.4f}')\n",
        "print(f'TfidfVectorizer - Train Accuracy: {train_accuracy_tf:.4f}, Test Accuracy: {test_accuracy_tf:.4f}')"
      ]
    },
    {
      "cell_type": "markdown",
      "metadata": {
        "id": "bCRlrODro0h8"
      },
      "source": [
        "**Ответ:** # немного уменьшилось переобучение на countvectorizer, но глобально результаты не изменились, поэтому как будто стемминг бесполезен здесь"
      ]
    },
    {
      "cell_type": "markdown",
      "metadata": {
        "id": "hYWGQNEDqLC-"
      },
      "source": [
        "## Задание  6 Работа с частотами (1.5 балла)"
      ]
    },
    {
      "cell_type": "markdown",
      "metadata": {
        "id": "8Hq-tl5mqUSn"
      },
      "source": [
        "Еще один способ уменьшить количество признаков - это использовать параметры min_df и max_df при построении векторайзера  эти параметры помогают ограничить требуемую частоту встречаемости токена в документах.\n",
        "\n",
        "По умолчанию берутся все токены, которые встретились хотя бы один раз.\n",
        "\n"
      ]
    },
    {
      "cell_type": "markdown",
      "metadata": {
        "id": "m1SiD4DE3WZ2"
      },
      "source": [
        "Подберите max_df такой, что размер словаря будет 36651 (на 1 меньше, чем было). Почему параметр получился такой большой/маленький?"
      ]
    },
    {
      "cell_type": "code",
      "execution_count": 89,
      "metadata": {
        "colab": {
          "base_uri": "https://localhost:8080/"
        },
        "id": "o3YLb8PViExb",
        "outputId": "f1e17d8b-0d5a-415f-f3ad-2858b1ddcb3e"
      },
      "outputs": [
        {
          "output_type": "stream",
          "name": "stdout",
          "text": [
            "36651\n"
          ]
        }
      ],
      "source": [
        "cv_df = CountVectorizer(tokenizer=custom_stem_tokenizer, max_df=0.3).fit(X_train['OriginalTweet'])\n",
        "print(len(cv_df.vocabulary_))"
      ]
    },
    {
      "cell_type": "markdown",
      "metadata": {
        "id": "UdZYoGZR4UsA"
      },
      "source": [
        "**Ответ:** # 30% кажется довольно большим числом, но это неудивительно, ведь все наши твиты связаны единой темой --- пандемией, поэтому ее упоминание в текстах будет довольно частым, но при этом не поможет определить тональность"
      ]
    },
    {
      "cell_type": "markdown",
      "metadata": {
        "id": "_gRIUaB1u32f"
      },
      "source": [
        "Подберите min_df (используйте дефолтное значение max_df) в CountVectorizer таким образом, чтобы размер словаря был 3700 токенов (при использовании токенайзера со стеммингом), а качество осталось таким же, как и было. Что можно сказать о результатах?"
      ]
    },
    {
      "cell_type": "code",
      "execution_count": 90,
      "metadata": {
        "colab": {
          "base_uri": "https://localhost:8080/"
        },
        "id": "kSnMJkn9XmsT",
        "outputId": "888491fa-040b-482d-e1bc-95ece537401a"
      },
      "outputs": [
        {
          "output_type": "stream",
          "name": "stdout",
          "text": [
            "3700\n"
          ]
        }
      ],
      "source": [
        "cv_df = CountVectorizer(tokenizer=custom_stem_tokenizer,\n",
        "                        min_df=0.00045).fit(X_train['OriginalTweet'])\n",
        "print(len(cv_df.vocabulary_))"
      ]
    },
    {
      "cell_type": "code",
      "execution_count": 91,
      "metadata": {
        "colab": {
          "base_uri": "https://localhost:8080/"
        },
        "id": "YAgnO3MwiRAG",
        "outputId": "3af2a25a-235e-45c0-94d8-d2b8a3be40a6"
      },
      "outputs": [
        {
          "output_type": "stream",
          "name": "stdout",
          "text": [
            "CountVectorizer - Train Accuracy: 0.9284, Test Accuracy: 0.8677\n"
          ]
        }
      ],
      "source": [
        "count_matrix_train = cv_df.fit_transform(texts_train)\n",
        "\n",
        "\n",
        "count_matrix_test = cv_df.transform(texts_test)\n",
        "\n",
        "\n",
        "log_reg_cv = LogisticRegression()\n",
        "log_reg_cv.fit(count_matrix_train, target_train)\n",
        "train_preds_cv = log_reg_cv.predict(count_matrix_train)\n",
        "train_accuracy_cv = accuracy_score(target_train, train_preds_cv)\n",
        "test_preds_cv = log_reg_cv.predict(count_matrix_test)\n",
        "test_accuracy_cv = accuracy_score(target_test, test_preds_cv)\n",
        "\n",
        "\n",
        "print(f'CountVectorizer - Train Accuracy: {train_accuracy_cv:.4f}, Test Accuracy: {test_accuracy_cv:.4f}')\n"
      ]
    },
    {
      "cell_type": "markdown",
      "metadata": {
        "id": "3fGYpUIZx0fk"
      },
      "source": [
        "**Ответ:** # уменьшилось переобучение, в целом, все выглядит достаточно хорошо, качество не пострадало"
      ]
    },
    {
      "cell_type": "markdown",
      "metadata": {
        "id": "Gx_h_-inKbBl"
      },
      "source": [
        "В предыдущих заданиях признаки не скалировались. Отскалируйте данные (при словаре размера 3.7 тысяч, векторизованные CountVectorizer), обучите логистическую регрессию, посмотрите качество и выведите `berplot` содержащий по 10 токенов, с наибольшим по модулю положительными/отрицательными весами. Что можно сказать об этих токенах?"
      ]
    },
    {
      "cell_type": "code",
      "execution_count": 92,
      "metadata": {
        "colab": {
          "base_uri": "https://localhost:8080/",
          "height": 403
        },
        "id": "KBATXJX6LG9q",
        "outputId": "bc6cf011-5b12-478b-c2f0-0529489b41bc"
      },
      "outputs": [
        {
          "output_type": "stream",
          "name": "stdout",
          "text": [
            "Точность модели: 0.8447\n",
            "['#ccp' '#dortmund' '#ferret' '#crazytimesã' '#cdc' '#freemarket'\n",
            " '#cornavirusoutbreak' '#co2' '#healthcar' '#coronaalert']\n"
          ]
        },
        {
          "output_type": "display_data",
          "data": {
            "text/plain": [
              "<Figure size 1500x500 with 2 Axes>"
            ],
            "image/png": "[encoded data removed]"
          },
          "metadata": {}
        }
      ],
      "source": [
        "from sklearn.preprocessing import StandardScaler\n",
        "from sklearn.pipeline import make_pipeline\n",
        "\n",
        "pipeline = make_pipeline(\n",
        "    cv_df,\n",
        "    StandardScaler(with_mean=False),\n",
        "    LogisticRegression()\n",
        ")\n",
        "\n",
        "pipeline.fit(texts_train, target_train)\n",
        "y_pred = pipeline.predict(texts_test)\n",
        "print(f'Точность модели: {accuracy_score(target_test, y_pred):.4f}')\n",
        "\n",
        "model = pipeline.named_steps['logisticregression']\n",
        "feature_names = cv.get_feature_names_out()\n",
        "coefs = model.coef_[0]\n",
        "\n",
        "top_positive_tokens = np.argsort(coefs)[-10:]\n",
        "top_negative_tokens = np.argsort(coefs)[:10]\n",
        "\n",
        "\n",
        "\n",
        "plt.figure(figsize=(15, 5))\n",
        "\n",
        "plt.subplot(1, 2, 2)\n",
        "plt.barh(range(10,0,-1), coefs[top_positive_tokens], color='green', align='edge')\n",
        "plt.yticks(range(10,0,-1), np.array(feature_names)[top_positive_tokens], ha='right')\n",
        "plt.title('Топ 10 токенов с положительными весами')\n",
        "\n",
        "plt.subplot(1, 2, 1)\n",
        "plt.barh(range(10), coefs[top_negative_tokens], color='red')\n",
        "plt.yticks(range(10), np.array(feature_names)[top_negative_tokens])\n",
        "plt.title('Топ 10 токенов с отрицательными весами')\n",
        "print(np.array(feature_names)[top_negative_tokens])\n",
        "plt.tight_layout()\n",
        "plt.show()"
      ]
    },
    {
      "cell_type": "markdown",
      "metadata": {
        "id": "ThcEfzY1LHET"
      },
      "source": [
        "**Ответ:** # все токены являются хештегами, это вполне объяснимо, так как хештеги объединяют твиты одной темы. при этом токены с положительным весом предполагают положительную окраску текста, так как #coronaviruspetpeev и #coughonmeandillnutya могут отражать ироничное или шутливое отношение к ситуации, например. А вот #ccp может отражать критику в адрес партии Китая в контексте пандемии, #healthcar и #coronaalert могут быть связаны с проблемами здравоохранения и предупреждениями о коронавирусе. (пришлось погуглить хештеги)"
      ]
    },
    {
      "cell_type": "markdown",
      "metadata": {
        "id": "ktJVOdrIHq7B"
      },
      "source": [
        "## Задание 7 Другие признаки (1.5 балла)"
      ]
    },
    {
      "cell_type": "markdown",
      "metadata": {
        "id": "Yt3jRCZ2H0Og"
      },
      "source": [
        "Мы были сконцентрированы на работе с текстами твиттов и не использовали другие признаки - имена пользователя, дату и местоположение"
      ]
    },
    {
      "cell_type": "markdown",
      "metadata": {
        "id": "52wjewCCo_di"
      },
      "source": [
        "Изучите признаки UserName и ScreenName. полезны ли они? Если полезны, то закодируйте их, добавьте к матрице с отскалированными признаками, обучите логистическую регрессию, замерьте качество."
      ]
    },
    {
      "cell_type": "markdown",
      "metadata": {
        "id": "r8_qR-gnpT3a"
      },
      "source": [
        "**Ответ:** # полагаю, что эти признаки не дадут нам достаточное количество полезной информации, так как username --- по сути id пользователя и помогает только объединить твиты от одного пользователя. screenname что-то вроде id для твита, так что вероятно тоже ничего не даст. Связи с айдишниками обычно нет)))"
      ]
    },
    {
      "cell_type": "markdown",
      "metadata": {
        "id": "ythEcFSkt7y3"
      },
      "source": [
        "Изучите признак TweetAt в обучающей выборке: преобразуйте его к типу datetime и нарисуйте его гистограмму с разделением по цвету на оспнове целевой переменной. Полезен ли он? Если полезен, то закодируйте его, добавьте к матрице с отскалированными признаками, обучите логистическую регрессию, замерьте качество."
      ]
    },
    {
      "cell_type": "code",
      "execution_count": 93,
      "metadata": {
        "colab": {
          "base_uri": "https://localhost:8080/",
          "height": 374
        },
        "id": "Lxb_k0JLirNv",
        "outputId": "ed01ca4d-4922-4ec3-8b0a-bcf27249141a"
      },
      "outputs": [
        {
          "output_type": "display_data",
          "data": {
            "text/plain": [
              "<Figure size 1500x500 with 1 Axes>"
            ],
            "image/png": "[encoded data removed]"
          },
          "metadata": {}
        }
      ],
      "source": [
        "X_train['TweetAt'] = pd.to_datetime(X_train['TweetAt'],errors='coerce')\n",
        "X_test['TweetAt'] = pd.to_datetime(X_test['TweetAt'],errors='coerce')\n",
        "plt.figure(figsize=(15, 5))\n",
        "plt.hist([X_train[target_train == 0]['TweetAt'], X_train[target_train == 1]['TweetAt']], color=['blue', 'red'], label=['Negative', 'Positive'])\n",
        "plt.legend()\n",
        "plt.show()"
      ]
    },
    {
      "cell_type": "markdown",
      "metadata": {
        "id": "4IdLBdpQxM-G"
      },
      "source": [
        "**Ответ:** # в целом, корреляция есть, но не супер сильная, поэтому дата твита не особо полезна для определения его окраски\n",
        "\n"
      ]
    },
    {
      "cell_type": "markdown",
      "metadata": {
        "id": "r2JtRPhNP6qx"
      },
      "source": [
        "Поработайте с признаком Location в обучающей выборке. Сколько уникальных значений?"
      ]
    },
    {
      "cell_type": "code",
      "execution_count": 94,
      "metadata": {
        "colab": {
          "base_uri": "https://localhost:8080/"
        },
        "id": "xYQZQ1FRNpoe",
        "outputId": "612b86a2-a4d6-4e7b-a45d-36ad455d5515"
      },
      "outputs": [
        {
          "output_type": "stream",
          "name": "stdout",
          "text": [
            "Количество уникальных значений в столбце Location: 7949\n"
          ]
        }
      ],
      "source": [
        "unique_locations = X_train['Location'].nunique()\n",
        "print(f'Количество уникальных значений в столбце Location: {unique_locations}')"
      ]
    },
    {
      "cell_type": "markdown",
      "metadata": {
        "id": "6k4JwpRTQISa"
      },
      "source": [
        "Постройте гистограмму топ-10 по популярности местоположений (исключая Unknown)"
      ]
    },
    {
      "cell_type": "code",
      "execution_count": 95,
      "metadata": {
        "colab": {
          "base_uri": "https://localhost:8080/",
          "height": 488
        },
        "id": "J91YkhegJ0mz",
        "outputId": "1717f274-fbc6-471e-8047-5f55f3477189"
      },
      "outputs": [
        {
          "output_type": "display_data",
          "data": {
            "text/plain": [
              "<Figure size 600x400 with 1 Axes>"
            ],
            "image/png": "[encoded data removed]"
          },
          "metadata": {}
        }
      ],
      "source": [
        "filtered_locations = X_train[X_train['Location'] != 'Unknown']\n",
        "\n",
        "\n",
        "location_counts = filtered_locations['Location'].value_counts().head(10)\n",
        "\n",
        "\n",
        "plt.figure(figsize=(6, 4))\n",
        "location_counts.plot(kind='bar')\n",
        "plt.title('Топ-10 местоположений по популярности')\n",
        "plt.xlabel('Местоположение')\n",
        "plt.ylabel('Количество')\n",
        "plt.xticks(rotation=45)\n",
        "plt.show()"
      ]
    },
    {
      "cell_type": "markdown",
      "metadata": {
        "id": "ZOsv3lODTfYB"
      },
      "source": [
        "Видно, что многие местоположения включают в себя более точное название места, чем другие (Например, у некоторых стоит London, UK; а у некоторых просто UK или United Kingdom).\n",
        "\n",
        "Создайте новый признак WiderLocation, который содержит самое широкое местоположение (например, из London, UK должно получиться UK). Сколько уникальных категорий теперь? Постройте аналогичную гистограмму."
      ]
    },
    {
      "cell_type": "code",
      "execution_count": 108,
      "metadata": {
        "colab": {
          "base_uri": "https://localhost:8080/",
          "height": 502
        },
        "id": "mSkow6acOMyD",
        "outputId": "15c39524-0e56-4285-a406-5ff7941016a3"
      },
      "outputs": [
        {
          "output_type": "stream",
          "name": "stdout",
          "text": [
            "Количество уникальных категорий: 4766\n"
          ]
        },
        {
          "output_type": "display_data",
          "data": {
            "text/plain": [
              "<Figure size 600x400 with 1 Axes>"
            ],
            "image/png": "[encoded data removed]"
          },
          "metadata": {}
        }
      ],
      "source": [
        "def extract_wider_location(location):\n",
        "    if ',' in location:\n",
        "        return location.split(',')[-1].strip()\n",
        "    return location\n",
        "\n",
        "X_train['WiderLocation'] = X_train['Location'].apply(extract_wider_location)\n",
        "X_test['WiderLocation'] = X_test['Location'].apply(extract_wider_location)\n",
        "\n",
        "unique_categories_count = X_train['WiderLocation'].nunique()\n",
        "print(f'Количество уникальных категорий: {unique_categories_count}')\n",
        "\n",
        "\n",
        "filtered_wider_locations = X_train[X_train['WiderLocation'] != 'Unknown']\n",
        "filtered_wider_locations_test = X_test[X_test['WiderLocation'] != 'Unknown']\n",
        "wider_location_counts = filtered_wider_locations['WiderLocation'].value_counts().head(10)\n",
        "wider_location_counts_test = filtered_wider_locations_test['WiderLocation'].value_counts().head(10)\n",
        "\n",
        "plt.figure(figsize=(6, 4))\n",
        "wider_location_counts.plot(kind='bar')\n",
        "plt.title('Топ-10 широких местоположений по популярности')\n",
        "plt.xlabel('Местоположение')\n",
        "plt.ylabel('Количество')\n",
        "plt.xticks(rotation=45)\n",
        "plt.show()"
      ]
    },
    {
      "cell_type": "markdown",
      "metadata": {
        "id": "cgyWrD2eVfff"
      },
      "source": [
        "Закодируйте признак WiderLocation с помощью OHE таким образом, чтобы создались только столбцы для местоположений, которые встречаются более одного раза. Сколько таких значений?\n"
      ]
    },
    {
      "cell_type": "code",
      "execution_count": 109,
      "metadata": {
        "colab": {
          "base_uri": "https://localhost:8080/"
        },
        "id": "SeJBfBWgPvg_",
        "outputId": "9ffa3f59-08b6-4e50-ec65-e0f49227120c"
      },
      "outputs": [
        {
          "output_type": "stream",
          "name": "stdout",
          "text": [
            "Количество признаков после OHE: 1005\n"
          ]
        }
      ],
      "source": [
        "location_counts = X_train['WiderLocation'].value_counts()\n",
        "locations_more_than_once = location_counts[location_counts > 1].index\n",
        "\n",
        "location_counts_test = X_test['WiderLocation'].value_counts()\n",
        "locations_more_than_once_test = location_counts_test[location_counts_test > 1].index\n",
        "\n",
        "df_ohe = pd.get_dummies(X_train['WiderLocation'])\n",
        "df_ohe = df_ohe[locations_more_than_once]\n",
        "\n",
        "df_ohe_test = pd.get_dummies(X_test['WiderLocation'])\n",
        "df_ohe_test = df_ohe_test[locations_more_than_once_test]\n",
        "\n",
        "num_of_ohe_features = df_ohe.shape[1]\n",
        "print(f'Количество признаков после OHE: {num_of_ohe_features}')"
      ]
    },
    {
      "cell_type": "markdown",
      "metadata": {
        "id": "ZyMX5kZuimPK"
      },
      "source": [
        "Добавьте этот признак к матрице отскалированных текстовых признаков, обучите логистическую регрессию, замерьте качество. Как оно изменилось? Оказался ли признак полезным?\n",
        "\n",
        "\n",
        "*Подсказка:* используйте параметр `categories` в энкодере."
      ]
    },
    {
      "cell_type": "code",
      "execution_count": 110,
      "metadata": {
        "colab": {
          "base_uri": "https://localhost:8080/"
        },
        "id": "EO1jNPeeim7A",
        "outputId": "ac30c150-91e7-4189-be2b-b1867c431e6b"
      },
      "outputs": [
        {
          "output_type": "stream",
          "name": "stdout",
          "text": [
            "Точность модели: 0.8657\n"
          ]
        }
      ],
      "source": [
        "from sklearn.feature_extraction.text import CountVectorizer\n",
        "from sklearn.preprocessing import StandardScaler, OneHotEncoder\n",
        "from sklearn.compose import ColumnTransformer\n",
        "from sklearn.pipeline import Pipeline\n",
        "from sklearn.linear_model import LogisticRegression\n",
        "from sklearn.model_selection import train_test_split\n",
        "from sklearn.metrics import accuracy_score\n",
        "from scipy.sparse import hstack\n",
        "\n",
        "X_train_counts = cv_df.fit_transform(texts_train)\n",
        "\n",
        "X_test_counts = cv_df.transform(texts_test)\n",
        "\n",
        "df_ohe = ohe.fit_transform(X_train[['WiderLocation']])\n",
        "\n",
        "df_ohe_test = ohe.transform(X_test[['WiderLocation']])\n",
        "\n",
        "\n",
        "X_train_combined = hstack([X_train_counts, df_ohe])\n",
        "X_test_combined = hstack([X_test_counts, df_ohe_test])\n",
        "\n",
        "\n",
        "pipeline = Pipeline([\n",
        "\n",
        "    ('logreg', LogisticRegression())\n",
        "])\n",
        "\n",
        "\n",
        "pipeline.fit(X_train_combined, target_train)\n",
        "\n",
        "\n",
        "y_pred = pipeline.predict(X_test_combined)\n",
        "\n",
        "\n",
        "accuracy = accuracy_score(target_test, y_pred)\n",
        "print(f'Точность модели: {accuracy:.4f}')"
      ]
    },
    {
      "cell_type": "markdown",
      "metadata": {
        "id": "7dHsGlDRYUQt"
      },
      "source": [
        "**Ответ:** # качество особо не изменилось, даже упало, поэтому признак оказался бесполезным ):"
      ]
    },
    {
      "cell_type": "markdown",
      "metadata": {
        "id": "IWn6h4W9eD3S"
      },
      "source": [
        "## Задание 8 Хорошее качество (Бонус 1 балл)"
      ]
    },
    {
      "cell_type": "markdown",
      "metadata": {
        "id": "-HDI0SU6eLgi"
      },
      "source": [
        "Добейтесь accuracy=0.9 на тестовой выборке (можно сменить токенайзер, векторайзер, модель и т.д.)"
      ]
    },
    {
      "cell_type": "markdown",
      "source": [
        "**ПАЦИЕНТ МЕРТВ**"
      ],
      "metadata": {
        "id": "RBssbzCOdLur"
      }
    }
  ],
  "metadata": {
    "colab": {
      "toc_visible": true,
      "provenance": []
    },
    "kernelspec": {
      "display_name": "Python 3",
      "name": "python3"
    },
    "language_info": {
      "name": "python"
    }
  },
  "nbformat": 4,
  "nbformat_minor": 0
}